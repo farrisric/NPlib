{
 "cells": [
  {
   "cell_type": "code",
   "execution_count": 50,
   "metadata": {},
   "outputs": [],
   "source": [
    "import json\n",
    "from npl.descriptors import TopologicalFeatureClassifier as TOP\n",
    "import numpy as np\n",
    "\n",
    "# Function to read JSON data from the file\n",
    "def read_json_file(filename):\n",
    "    with open(filename, 'r') as file:\n",
    "        data = json.load(file)\n",
    "    return data\n",
    "\n",
    "# Example usage\n",
    "filename = 'new_data.json'\n",
    "data = read_json_file(filename)\n",
    "stoichiometry = 'Pt70Au70'\n",
    "params = data.get(stoichiometry, None)\n",
    "\n",
    "top = TOP(params['symbols'])\n",
    "feature_name = top.get_feature_labels()\n",
    "coefficients = np.zeros(len(feature_name))\n",
    "\n",
    "for i, feature in enumerate(feature_name):\n",
    "    coefficients[i] = params.get(feature, 0)\n",
    "    \n",
    "for i, feature in enumerate(feature_name):\n",
    "    if len(feature) > 4:\n",
    "        symbol = feature[:2]\n",
    "        cn = feature[3:-1]\n",
    "        coefficients[i] = params['data'][symbol][cn]"
   ]
  },
  {
   "cell_type": "code",
   "execution_count": 1,
   "metadata": {},
   "outputs": [
    {
     "name": "stderr",
     "output_type": "stream",
     "text": [
      "root - INFO - Loading top parameters of Pt70Au70\n"
     ]
    },
    {
     "ename": "FileNotFoundError",
     "evalue": "[Errno 2] No such file or directory: '../../data/top_params.json'",
     "output_type": "error",
     "traceback": [
      "\u001b[0;31m---------------------------------------------------------------------------\u001b[0m",
      "\u001b[0;31mFileNotFoundError\u001b[0m                         Traceback (most recent call last)",
      "Cell \u001b[0;32mIn[1], line 3\u001b[0m\n\u001b[1;32m      1\u001b[0m \u001b[38;5;28;01mfrom\u001b[39;00m \u001b[38;5;21;01mnpl\u001b[39;00m\u001b[38;5;21;01m.\u001b[39;00m\u001b[38;5;21;01mcalculators\u001b[39;00m\u001b[38;5;21;01m.\u001b[39;00m\u001b[38;5;21;01mtop_calculator\u001b[39;00m \u001b[38;5;28;01mimport\u001b[39;00m TOPCalculator\n\u001b[0;32m----> 3\u001b[0m top_calc \u001b[38;5;241m=\u001b[39m \u001b[43mTOPCalculator\u001b[49m\u001b[43m(\u001b[49m\u001b[38;5;124;43m'\u001b[39;49m\u001b[38;5;124;43mTFC\u001b[39;49m\u001b[38;5;124;43m'\u001b[39;49m\u001b[43m,\u001b[49m\u001b[43m \u001b[49m\u001b[38;5;124;43m'\u001b[39;49m\u001b[38;5;124;43mPt70Au70\u001b[39;49m\u001b[38;5;124;43m'\u001b[39;49m\u001b[43m)\u001b[49m\n",
      "File \u001b[0;32m~/bin/repos/NPlib/npl/calculators/top_calculator.py:37\u001b[0m, in \u001b[0;36mTOPCalculator.__init__\u001b[0;34m(self, feature_key, stoichiometry, model_paths, **kwargs)\u001b[0m\n\u001b[1;32m     34\u001b[0m     \u001b[38;5;28mself\u001b[39m\u001b[38;5;241m.\u001b[39mmodel \u001b[38;5;241m=\u001b[39m \u001b[38;5;28mself\u001b[39m\u001b[38;5;241m.\u001b[39mload_model(model_paths)\n\u001b[1;32m     36\u001b[0m \u001b[38;5;28;01mif\u001b[39;00m stoichiometry:\n\u001b[0;32m---> 37\u001b[0m     \u001b[38;5;28mself\u001b[39m\u001b[38;5;241m.\u001b[39mcoeffcients \u001b[38;5;241m=\u001b[39m \u001b[38;5;28;43mself\u001b[39;49m\u001b[38;5;241;43m.\u001b[39;49m\u001b[43mload_coefficients\u001b[49m\u001b[43m(\u001b[49m\u001b[43mstoichiometry\u001b[49m\u001b[43m)\u001b[49m\n\u001b[1;32m     38\u001b[0m     \u001b[38;5;28mself\u001b[39m\u001b[38;5;241m.\u001b[39mridge \u001b[38;5;241m=\u001b[39m LinearRegression()\n\u001b[1;32m     39\u001b[0m     \u001b[38;5;28mself\u001b[39m\u001b[38;5;241m.\u001b[39mridge\u001b[38;5;241m.\u001b[39mcoef_ \u001b[38;5;241m=\u001b[39m \u001b[38;5;28mself\u001b[39m\u001b[38;5;241m.\u001b[39mcoeffcients\n",
      "File \u001b[0;32m~/bin/repos/NPlib/npl/calculators/top_calculator.py:44\u001b[0m, in \u001b[0;36mTOPCalculator.load_coefficients\u001b[0;34m(self, stoichiometry)\u001b[0m\n\u001b[1;32m     41\u001b[0m \u001b[38;5;28;01mdef\u001b[39;00m \u001b[38;5;21mload_coefficients\u001b[39m(\u001b[38;5;28mself\u001b[39m, stoichiometry):\n\u001b[1;32m     42\u001b[0m     logging\u001b[38;5;241m.\u001b[39minfo(\u001b[38;5;124m\"\u001b[39m\u001b[38;5;124mLoading top parameters of \u001b[39m\u001b[38;5;132;01m{}\u001b[39;00m\u001b[38;5;124m\"\u001b[39m\u001b[38;5;241m.\u001b[39mformat(stoichiometry))\n\u001b[0;32m---> 44\u001b[0m     params \u001b[38;5;241m=\u001b[39m \u001b[38;5;28;43mself\u001b[39;49m\u001b[38;5;241;43m.\u001b[39;49m\u001b[43mget_data_by_stoichiometry\u001b[49m\u001b[43m(\u001b[49m\u001b[43mstoichiometry\u001b[49m\u001b[43m)\u001b[49m\n\u001b[1;32m     45\u001b[0m     top \u001b[38;5;241m=\u001b[39m TOP(params[\u001b[38;5;124m'\u001b[39m\u001b[38;5;124msymbols\u001b[39m\u001b[38;5;124m'\u001b[39m])\n\u001b[1;32m     46\u001b[0m     feature_name \u001b[38;5;241m=\u001b[39m top\u001b[38;5;241m.\u001b[39mget_feature_labels()\n",
      "File \u001b[0;32m~/bin/repos/NPlib/npl/calculators/top_calculator.py:72\u001b[0m, in \u001b[0;36mTOPCalculator.get_data_by_stoichiometry\u001b[0;34m(self, stoichiometry)\u001b[0m\n\u001b[1;32m     61\u001b[0m \u001b[38;5;28;01mdef\u001b[39;00m \u001b[38;5;21mget_data_by_stoichiometry\u001b[39m(\u001b[38;5;28mself\u001b[39m, stoichiometry):\n\u001b[1;32m     62\u001b[0m \u001b[38;5;250m    \u001b[39m\u001b[38;5;124;03m\"\"\"\u001b[39;00m\n\u001b[1;32m     63\u001b[0m \u001b[38;5;124;03m    Retrieve data for a given stoichiometry.\u001b[39;00m\n\u001b[1;32m     64\u001b[0m \n\u001b[0;32m   (...)\u001b[0m\n\u001b[1;32m     70\u001b[0m \u001b[38;5;124;03m        dict: The data for the specified stoichiometry, or None if not found.\u001b[39;00m\n\u001b[1;32m     71\u001b[0m \u001b[38;5;124;03m    \"\"\"\u001b[39;00m\n\u001b[0;32m---> 72\u001b[0m     data \u001b[38;5;241m=\u001b[39m data \u001b[38;5;241m=\u001b[39m json\u001b[38;5;241m.\u001b[39mload(\u001b[38;5;28;43mopen\u001b[39;49m\u001b[43m(\u001b[49m\u001b[38;5;124;43m'\u001b[39;49m\u001b[38;5;124;43m../../data/top_params.json\u001b[39;49m\u001b[38;5;124;43m'\u001b[39;49m\u001b[43m,\u001b[49m\u001b[43m \u001b[49m\u001b[38;5;124;43m'\u001b[39;49m\u001b[38;5;124;43mr\u001b[39;49m\u001b[38;5;124;43m'\u001b[39;49m\u001b[43m)\u001b[49m)\n\u001b[1;32m     73\u001b[0m     \u001b[38;5;28;01mreturn\u001b[39;00m data\u001b[38;5;241m.\u001b[39mget(stoichiometry, \u001b[38;5;28;01mNone\u001b[39;00m)\n",
      "\u001b[0;31mFileNotFoundError\u001b[0m: [Errno 2] No such file or directory: '../../data/top_params.json'"
     ]
    }
   ],
   "source": [
    "from npl.calculators.top_calculator import TOPCalculator\n",
    "\n",
    "top_calc = TOPCalculator('TFC', 'Pt70Au70')"
   ]
  },
  {
   "cell_type": "code",
   "execution_count": null,
   "metadata": {},
   "outputs": [],
   "source": []
  }
 ],
 "metadata": {
  "kernelspec": {
   "display_name": "np-lib",
   "language": "python",
   "name": "python3"
  },
  "language_info": {
   "codemirror_mode": {
    "name": "ipython",
    "version": 3
   },
   "file_extension": ".py",
   "mimetype": "text/x-python",
   "name": "python",
   "nbconvert_exporter": "python",
   "pygments_lexer": "ipython3",
   "version": "3.9.20"
  }
 },
 "nbformat": 4,
 "nbformat_minor": 2
}

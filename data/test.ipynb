{
 "cells": [
  {
   "cell_type": "code",
   "execution_count": 4,
   "metadata": {},
   "outputs": [
    {
     "data": {
      "text/plain": [
       "array([   0.,    0.,   19.,    0.,    0.,    0.,    0.,    0.,    0.,\n",
       "       -619., -377., -256., -256.,    0.,    0.,    0.,    0.,    0.,\n",
       "          0.,    0.,    0.,    0.,    0.,    0.,    0.,    0.,    0.,\n",
       "          0.,    0.])"
      ]
     },
     "execution_count": 4,
     "metadata": {},
     "output_type": "execute_result"
    }
   ],
   "source": [
    "import json\n",
    "from npl.descriptors import TopologicalFeatureClassifier as TOP\n",
    "import numpy as np\n",
    "import npl\n",
    "import os\n",
    "\n",
    "\n",
    "\n",
    "# Example usage\n",
    "filename = open(os.path.join(os.path.dirname(npl.__file__), '../data', 'params.json'))\n",
    "data = json.load(filename)\n",
    "stoichiometry = 'Pt70Au70'\n",
    "params = data.get(stoichiometry, None)\n",
    "\n",
    "top = TOP(params['symbols'])\n",
    "feature_name = top.get_feature_labels()\n",
    "coefficients = np.zeros(len(feature_name))\n",
    "\n",
    "for i, feature in enumerate(feature_name):\n",
    "    coefficients[i] = params.get(feature, 0)\n",
    "    \n",
    "for i, feature in enumerate(feature_name):\n",
    "    if len(feature) > 4:\n",
    "        symbol = feature[:2]\n",
    "        cn = feature[3:-1]\n",
    "        coefficients[i] = params['data'][symbol][cn]\n",
    "        \n",
    "coefficients"
   ]
  },
  {
   "cell_type": "code",
   "execution_count": 1,
   "metadata": {},
   "outputs": [
    {
     "name": "stderr",
     "output_type": "stream",
     "text": [
      "INFO - Loading top parameters of Pt70Au70\n",
      "INFO - Parameters obtained from reference: L. Vega Mater. Adv., 2021, 2, 6589-6602\n"
     ]
    }
   ],
   "source": [
    "from npl.calculators.top_calculator import TOPCalculator\n",
    "\n",
    "top_calc = TOPCalculator('TFC', 'Pt70Au70')\n"
   ]
  },
  {
   "cell_type": "code",
   "execution_count": 12,
   "metadata": {},
   "outputs": [
    {
     "name": "stdout",
     "output_type": "stream",
     "text": [
      "/home/riccardo/bin/repos/NPlib/npl/__init__.py\n",
      "/home/riccardo/bin/repos/NPlib/npl/../data/top_params.json\n"
     ]
    }
   ],
   "source": [
    "import npl\n",
    "import os\n",
    "\n",
    "# Print the file path of the npl module\n",
    "print(npl.__file__)\n",
    "\n",
    "# Construct the path to the 'doc/top_params.json' file\n",
    "top_params_path = os.path.join(os.path.dirname(npl.__file__), '../data', 'params.json')\n",
    "print(top_params_path)"
   ]
  },
  {
   "cell_type": "code",
   "execution_count": 11,
   "metadata": {},
   "outputs": [
    {
     "name": "stdout",
     "output_type": "stream",
     "text": [
      "ls: cannot access '/home/riccardo/bin/repos/NPlib/npl/../docs/top_params.json': No such file or directory\n"
     ]
    }
   ],
   "source": [
    "!ls /home/riccardo/bin/repos/NPlib/npl/../docs/top_params.json"
   ]
  },
  {
   "cell_type": "code",
   "execution_count": null,
   "metadata": {},
   "outputs": [],
   "source": [
    "/home/riccardo/bin/repos/NPlib/npl/../docs/top_params.json\n",
    "/home/riccardo/bin/repos/NPlib/npl/../docs/top_params.json"
   ]
  }
 ],
 "metadata": {
  "kernelspec": {
   "display_name": "np-lib",
   "language": "python",
   "name": "python3"
  },
  "language_info": {
   "codemirror_mode": {
    "name": "ipython",
    "version": 3
   },
   "file_extension": ".py",
   "mimetype": "text/x-python",
   "name": "python",
   "nbconvert_exporter": "python",
   "pygments_lexer": "ipython3",
   "version": "3.9.20"
  }
 },
 "nbformat": 4,
 "nbformat_minor": 2
}

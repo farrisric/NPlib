{
 "cells": [
  {
   "cell_type": "code",
   "execution_count": 8,
   "metadata": {},
   "outputs": [],
   "source": [
    "from ase.cluster import Octahedron\n",
    "from npl.descriptors import Topologies\n",
    "\n",
    "\n",
    "system = Octahedron('Pt', 5,1)\n",
    "\n",
    "top = Topologies()\n",
    "top.create(system)"
   ]
  },
  {
   "cell_type": "code",
   "execution_count": 275,
   "metadata": {},
   "outputs": [],
   "source": [
    "from numba import njit\n",
    "import numba as nb\n",
    "import numpy as np\n",
    "import random\n",
    "\n",
    "atom_features = np.empty((len(connectivity_matrix),2))\n",
    "\n",
    "@njit\n",
    "def compute_local_environments(connectivity_matrix, atom_features):\n",
    "\n",
    "    for i in range(len(connectivity_matrix)):\n",
    "\n",
    "        a_bonds = np.int16(np.sum(connectivity_matrix[i]*position_symbol_a))\n",
    "        b_bonds = np.int16(np.sum(connectivity_matrix[i]*position_symbol_b))\n",
    "\n",
    "        atom_features[i][0] = a_bonds\n",
    "        atom_features[i][1] = b_bonds\n",
    "\n",
    "@njit\n",
    "def compute_local_environment(connectivity_matrix, atom_features, atom_index):\n",
    "\n",
    "    a_bonds = np.int16(np.sum(connectivity_matrix[atom_index]*position_symbol_a))\n",
    "    b_bonds = np.int16(np.sum(connectivity_matrix[atom_index]*position_symbol_b))\n",
    "\n",
    "    atom_features[atom_index][0] = a_bonds\n",
    "    atom_features[atom_index][1] = b_bonds\n",
    "    \n",
    "\n",
    "\n",
    "def compute_atom_feature(atom_features, atom_index):\n",
    "\n",
    "    coordination_number_offsets = [int(cn*(cn + 1)/2) for cn in range(13)]\n",
    "    element_offset = 91\n",
    "    element = np.int16(position_symbol_a[atom_index])\n",
    "\n",
    "    cn = int(sum(atom_features[atom_index]))\n",
    "    feature = int(element_offset*element + coordination_number_offsets[cn] + atom_features[atom_index][0])\n",
    "    \n",
    "compute_local_environments(connectivity_matrix, atom_features)\n"
   ]
  },
  {
   "cell_type": "code",
   "execution_count": 276,
   "metadata": {},
   "outputs": [
    {
     "name": "stdout",
     "output_type": "stream",
     "text": [
      "6.91 µs ± 67.6 ns per loop (mean ± std. dev. of 7 runs, 100000 loops each)\n"
     ]
    }
   ],
   "source": [
    "%timeit compute_atom_feature(atom_features,10)"
   ]
  },
  {
   "cell_type": "code",
   "execution_count": 265,
   "metadata": {},
   "outputs": [
    {
     "name": "stdout",
     "output_type": "stream",
     "text": [
      "372 ns ± 3.61 ns per loop (mean ± std. dev. of 7 runs, 1000000 loops each)\n"
     ]
    }
   ],
   "source": [
    "%timeit compute_atom_feature(atom_features,10)"
   ]
  },
  {
   "cell_type": "code",
   "execution_count": 261,
   "metadata": {},
   "outputs": [
    {
     "name": "stdout",
     "output_type": "stream",
     "text": [
      "139\n"
     ]
    }
   ],
   "source": [
    "compute_local_environments(connectivity_matrix, atom_features)\n"
   ]
  },
  {
   "cell_type": "code",
   "execution_count": 251,
   "metadata": {},
   "outputs": [
    {
     "data": {
      "text/plain": [
       "78"
      ]
     },
     "execution_count": 251,
     "metadata": {},
     "output_type": "execute_result"
    }
   ],
   "source": [
    "[int(cn*(cn + 1)/2) for cn in range(13)][12]"
   ]
  },
  {
   "cell_type": "code",
   "execution_count": 228,
   "metadata": {},
   "outputs": [
    {
     "data": {
      "text/plain": [
       "(array([0, 1, 2]),)"
      ]
     },
     "execution_count": 228,
     "metadata": {},
     "output_type": "execute_result"
    }
   ],
   "source": [
    "a = np.array([1,1,1,0])\n",
    "\n",
    "np.where(a==1)"
   ]
  },
  {
   "cell_type": "code",
   "execution_count": 122,
   "metadata": {},
   "outputs": [
    {
     "data": {
      "text/plain": [
       "{'Ni': array([ 0,  1,  2,  3,  4,  5,  6,  7,  8,  9, 10]),\n",
       " 'Pt': array([11, 12, 13, 14, 15, 16, 17, 18, 19, 20, 21, 22, 23, 24, 25, 26, 27,\n",
       "        28, 29, 30, 31, 32, 33, 34, 35, 36, 37, 38, 39, 40, 41, 42, 43, 44,\n",
       "        45, 46, 47, 48, 49, 50, 51, 52, 53, 54, 55, 56, 57, 58, 59, 60, 61,\n",
       "        62, 63, 64, 65, 66, 67, 68, 69, 70, 71, 72, 73, 74, 75, 76, 77, 78])}"
      ]
     },
     "execution_count": 122,
     "metadata": {},
     "output_type": "execute_result"
    }
   ],
   "source": []
  },
  {
   "cell_type": "code",
   "execution_count": 126,
   "metadata": {},
   "outputs": [],
   "source": [
    "for f in range(10):\n",
    "    system[f].symbol = 'Ni'\n",
    "\n",
    "position_symbol_a = np.zeros(len(system))\n",
    "position_symbol_b = np.zeros(len(system))\n",
    "\n",
    "for atom in system:\n",
    "    if atom.symbol == list(system.symbols.indices())[0]:\n",
    "        position_symbol_a[atom.index] = 1\n",
    "    else:\n",
    "        position_symbol_b[atom.index] = 1"
   ]
  },
  {
   "cell_type": "code",
   "execution_count": 133,
   "metadata": {},
   "outputs": [
    {
     "data": {
      "text/plain": [
       "1.0"
      ]
     },
     "execution_count": 133,
     "metadata": {},
     "output_type": "execute_result"
    }
   ],
   "source": [
    "np.sum(connectivity_matrix[0]*position_symbol_b)"
   ]
  },
  {
   "cell_type": "code",
   "execution_count": 29,
   "metadata": {},
   "outputs": [],
   "source": [
    "connectivity_matrix = np.zeros((len(system), len(system)))\n",
    "for col in top.neighbor_list:\n",
    "    for row in top.neighbor_list[col]:\n",
    "        connectivity_matrix[col][row] = 1"
   ]
  },
  {
   "cell_type": "code",
   "execution_count": 32,
   "metadata": {},
   "outputs": [
    {
     "data": {
      "text/plain": [
       "6.0"
      ]
     },
     "execution_count": 32,
     "metadata": {},
     "output_type": "execute_result"
    }
   ],
   "source": [
    "np.sum(connectivity_matrix[1])"
   ]
  },
  {
   "cell_type": "code",
   "execution_count": 235,
   "metadata": {},
   "outputs": [],
   "source": [
    "from Core.LocalEnvironmentFeatureClassifier import TopologicalEnvironmentClassifier\n",
    "from Core.LocalEnvironmentCalculator import NeighborCountingEnvironmentCalculator\n",
    "from Core import Nanoparticle as NP \n",
    "\n",
    "p = NP.Nanoparticle()\n",
    "p.add_atoms(system)\n",
    "\n",
    "l = NeighborCountingEnvironmentCalculator(p.get_all_symbols())\n",
    "t = TopologicalEnvironmentClassifier(l, p.get_all_symbols())"
   ]
  },
  {
   "cell_type": "code",
   "execution_count": 243,
   "metadata": {},
   "outputs": [
    {
     "name": "stdout",
     "output_type": "stream",
     "text": [
      "16.8 µs ± 143 ns per loop (mean ± std. dev. of 7 runs, 100000 loops each)\n"
     ]
    }
   ],
   "source": [
    "%timeit t.compute_atom_feature(p,1, recompute_local_environment=True)"
   ]
  },
  {
   "cell_type": "code",
   "execution_count": 249,
   "metadata": {},
   "outputs": [
    {
     "name": "stdout",
     "output_type": "stream",
     "text": [
      "627 ns ± 2.29 ns per loop (mean ± std. dev. of 7 runs, 1000000 loops each)\n"
     ]
    }
   ],
   "source": [
    "%timeit compute_atom_feature(connectivity_matrix, atom_features, 1)"
   ]
  },
  {
   "cell_type": "code",
   "execution_count": null,
   "metadata": {},
   "outputs": [],
   "source": []
  }
 ],
 "metadata": {
  "interpreter": {
   "hash": "9bbf539494eec5075113a93f4ea6e0e910eb7706ccd7c3e2c78481c269c9c2ea"
  },
  "kernelspec": {
   "display_name": "Python 3.9.7 ('base')",
   "language": "python",
   "name": "python3"
  },
  "language_info": {
   "codemirror_mode": {
    "name": "ipython",
    "version": 3
   },
   "file_extension": ".py",
   "mimetype": "text/x-python",
   "name": "python",
   "nbconvert_exporter": "python",
   "pygments_lexer": "ipython3",
   "version": "3.9.7"
  },
  "orig_nbformat": 4
 },
 "nbformat": 4,
 "nbformat_minor": 2
}

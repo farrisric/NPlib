{
 "cells": [
  {
   "cell_type": "code",
   "execution_count": 5,
   "metadata": {},
   "outputs": [],
   "source": [
    "from ase.io import read\n",
    "from npl.core import Nanoparticle as NP\n",
    "from npl.descriptors import EnvironmentalTopologies as ETOP\n",
    "import numpy as np\n",
    "from numba import njit\n",
    "\n",
    "system = read(\"/home/riccardo/Scientific_Projects/PtAu_bigNps/300K/10_perc/run2/glo002.xyz\")\n",
    "system = NP.from_atoms(system)\n",
    "\n",
    "bond_matrix = system.get_bond_matrix()\n",
    "occupation_matrix = system._occupation_matrix\n",
    "\n",
    "@njit\n",
    "def get_top_descriptors(occupation_matrix, bond_matrix):\n",
    "    feature_vector = np.zeros(29)\n",
    "    for symbol, index_bonds  in zip(occupation_matrix[0], bond_matrix):\n",
    "        a_bonds, b_bonds = index_bonds\n",
    "        cn = int(sum(index_bonds))\n",
    "        if symbol == 1:\n",
    "            feature_vector[0] += a_bonds/2\n",
    "            feature_vector[2] += b_bonds/2\n",
    "            feature_vector[cn+3] += 1\n",
    "        else:\n",
    "            feature_vector[2] += a_bonds/2\n",
    "            feature_vector[1] += b_bonds/2\n",
    "            feature_vector[cn+3+13] += 1\n",
    "\n"
   ]
  },
  {
   "cell_type": "code",
   "execution_count": 10,
   "metadata": {},
   "outputs": [
    {
     "data": {
      "text/plain": [
       "array([79, 79, 78, ..., 78, 78, 78])"
      ]
     },
     "execution_count": 10,
     "metadata": {},
     "output_type": "execute_result"
    }
   ],
   "source": [
    "system._get"
   ]
  },
  {
   "cell_type": "code",
   "execution_count": 8,
   "metadata": {},
   "outputs": [
    {
     "name": "stdout",
     "output_type": "stream",
     "text": [
      "3.02 ms ± 240 µs per loop (mean ± std. dev. of 7 runs, 100 loops each)\n"
     ]
    }
   ],
   "source": [
    "%timeit get_top_descriptors(system._occupation_matrix, system.get_bond_matrix())"
   ]
  },
  {
   "cell_type": "code",
   "execution_count": null,
   "metadata": {},
   "outputs": [],
   "source": []
  },
  {
   "cell_type": "code",
   "execution_count": 32,
   "metadata": {},
   "outputs": [
    {
     "name": "stdout",
     "output_type": "stream",
     "text": [
      "20.8 µs ± 471 ns per loop (mean ± std. dev. of 7 runs, 10,000 loops each)\n"
     ]
    }
   ],
   "source": []
  },
  {
   "cell_type": "code",
   "execution_count": 4,
   "metadata": {},
   "outputs": [
    {
     "name": "stdout",
     "output_type": "stream",
     "text": [
      "2.72 ms ± 120 µs per loop (mean ± std. dev. of 7 runs, 100 loops each)\n"
     ]
    }
   ],
   "source": [
    "%timeit ETOP().update(system)"
   ]
  },
  {
   "cell_type": "code",
   "execution_count": 34,
   "metadata": {},
   "outputs": [],
   "source": [
    "class ExchangeMove:\n",
    "    def __init__(self, system):\n",
    "        self.occupation_matrix = system._occupation_matrix\n",
    "        self.a = np.where(self.occupation_matrix==1)[1]\n",
    "        self.b = np.where(self.occupation_matrix==0)[1]\n",
    "\n",
    "    def exchange_move(self):\n",
    "        swap1 = np.random.choice(self.a)\n",
    "        swap2 = np.random.choice(self.b)\n",
    "\n",
    "        self.a[swap1], self.b[swap2] = self.a[swap2], self.b[swap1]\n",
    "\n",
    "        self.occupation_matrix[0,swap1], self.occupation_matrix[1,swap1] = self.occupation_matrix[1,swap1], self.occupation_matrix[0,swap1]\n",
    "        self.occupation_matrix[0,swap2], self.occupation_matrix[1,swap2] = self.occupation_matrix[1,swap2], self.occupation_matrix[0,swap2]\n",
    "\n",
    "ex = ExchangeMove(system)\n",
    "ex.exchange_move()"
   ]
  },
  {
   "cell_type": "code",
   "execution_count": 39,
   "metadata": {},
   "outputs": [],
   "source": [
    "for _ in range(20000):\n",
    "    ex.exchange_move()\n",
    "    bond_matrix = system.get_bond_matrix()\n",
    "    get_top_descriptors(system._occupation_matrix, bond_matrix)"
   ]
  },
  {
   "cell_type": "code",
   "execution_count": 20,
   "metadata": {},
   "outputs": [
    {
     "data": {
      "text/plain": [
       "array([   0,    1,    3, ..., 1460, 1461, 1462])"
      ]
     },
     "execution_count": 20,
     "metadata": {},
     "output_type": "execute_result"
    }
   ],
   "source": [
    "np.where(system._occupation_matrix==1)[1]"
   ]
  },
  {
   "cell_type": "code",
   "execution_count": 63,
   "metadata": {},
   "outputs": [
    {
     "ename": "TypingError",
     "evalue": "Failed in nopython mode pipeline (step: nopython frontend)\n- Resolution failure for literal arguments:\nNo implementation of function Function(<function array_dot at 0x7fac07f6e940>) found for signature:\n\n >>> array_dot(array(int16, 2d, C), array(float64, 2d, F))\n\nThere are 2 candidate implementations:\n      - Of which 2 did not match due to:\n      Overload in function 'array_dot': File: numba/np/arrayobj.py: Line 5526.\n        With argument(s): '(array(int16, 2d, C), array(float64, 2d, F))':\n       Rejected as the implementation raised a specific error:\n         TypingError: Failed in nopython mode pipeline (step: nopython frontend)\n       No implementation of function Function(<function dot at 0x7fac70599790>) found for signature:\n\n        >>> dot(array(int16, 2d, C), array(float64, 2d, F))\n\n       There are 4 candidate implementations:\n             - Of which 4 did not match due to:\n             Overload in function '_OverloadWrapper._build.<locals>.ol_generated': File: numba/core/overload_glue.py: Line 129.\n               With argument(s): '(array(int16, 2d, C), array(float64, 2d, F))':\n              Rejected as the implementation raised a specific error:\n                TypingError: np.dot() arguments must all have the same dtype\n         raised from /home/riccardo/python_venvs/NPlib/lib/python3.9/site-packages/numba/core/typing/npydecl.py:915\n\n       During: resolving callee type: Function(<function dot at 0x7fac70599790>)\n       During: typing of call at /home/riccardo/python_venvs/NPlib/lib/python3.9/site-packages/numba/np/arrayobj.py (5529)\n\n\n       File \"../../../python_venvs/NPlib/lib/python3.9/site-packages/numba/np/arrayobj.py\", line 5529:\n           def dot_impl(arr, other):\n               return np.dot(arr, other)\n               ^\n\n  raised from /home/riccardo/python_venvs/NPlib/lib/python3.9/site-packages/numba/core/typeinfer.py:1086\n\n- Resolution failure for non-literal arguments:\nNone\n\nDuring: resolving callee type: BoundFunction((<class 'numba.core.types.npytypes.Array'>, 'dot') for array(int16, 2d, C))\nDuring: typing of call at /tmp/ipykernel_694693/3785498144.py (3)\n\n\nFile \"../../../../../tmp/ipykernel_694693/3785498144.py\", line 3:\n<source missing, REPL/exec in use?>\n",
     "output_type": "error",
     "traceback": [
      "\u001b[0;31m---------------------------------------------------------------------------\u001b[0m",
      "\u001b[0;31mTypingError\u001b[0m                               Traceback (most recent call last)",
      "Cell \u001b[0;32mIn [63], line 5\u001b[0m\n\u001b[1;32m      1\u001b[0m \u001b[38;5;129m@njit\u001b[39m\n\u001b[1;32m      2\u001b[0m \u001b[38;5;28;01mdef\u001b[39;00m \u001b[38;5;21mdio\u001b[39m(ciao, ciao2):\n\u001b[1;32m      3\u001b[0m     ciao\u001b[38;5;241m.\u001b[39mdot(ciao2) \n\u001b[0;32m----> 5\u001b[0m \u001b[43mget_ipython\u001b[49m\u001b[43m(\u001b[49m\u001b[43m)\u001b[49m\u001b[38;5;241;43m.\u001b[39;49m\u001b[43mrun_line_magic\u001b[49m\u001b[43m(\u001b[49m\u001b[38;5;124;43m'\u001b[39;49m\u001b[38;5;124;43mtimeit\u001b[39;49m\u001b[38;5;124;43m'\u001b[39;49m\u001b[43m,\u001b[49m\u001b[43m \u001b[49m\u001b[38;5;124;43m'\u001b[39;49m\u001b[38;5;124;43mdio(system._connectivity_matrix, system._occupation_matrix.T)\u001b[39;49m\u001b[38;5;124;43m'\u001b[39;49m\u001b[43m)\u001b[49m\n",
      "File \u001b[0;32m~/python_venvs/NPlib/lib/python3.9/site-packages/IPython/core/interactiveshell.py:2309\u001b[0m, in \u001b[0;36mInteractiveShell.run_line_magic\u001b[0;34m(self, magic_name, line, _stack_depth)\u001b[0m\n\u001b[1;32m   <a href='file:///home/riccardo/python_venvs/NPlib/lib/python3.9/site-packages/IPython/core/interactiveshell.py?line=2306'>2307</a>\u001b[0m     kwargs[\u001b[39m'\u001b[39m\u001b[39mlocal_ns\u001b[39m\u001b[39m'\u001b[39m] \u001b[39m=\u001b[39m \u001b[39mself\u001b[39m\u001b[39m.\u001b[39mget_local_scope(stack_depth)\n\u001b[1;32m   <a href='file:///home/riccardo/python_venvs/NPlib/lib/python3.9/site-packages/IPython/core/interactiveshell.py?line=2307'>2308</a>\u001b[0m \u001b[39mwith\u001b[39;00m \u001b[39mself\u001b[39m\u001b[39m.\u001b[39mbuiltin_trap:\n\u001b[0;32m-> <a href='file:///home/riccardo/python_venvs/NPlib/lib/python3.9/site-packages/IPython/core/interactiveshell.py?line=2308'>2309</a>\u001b[0m     result \u001b[39m=\u001b[39m fn(\u001b[39m*\u001b[39;49margs, \u001b[39m*\u001b[39;49m\u001b[39m*\u001b[39;49mkwargs)\n\u001b[1;32m   <a href='file:///home/riccardo/python_venvs/NPlib/lib/python3.9/site-packages/IPython/core/interactiveshell.py?line=2309'>2310</a>\u001b[0m \u001b[39mreturn\u001b[39;00m result\n",
      "File \u001b[0;32m~/python_venvs/NPlib/lib/python3.9/site-packages/IPython/core/magics/execution.py:1162\u001b[0m, in \u001b[0;36mExecutionMagics.timeit\u001b[0;34m(self, line, cell, local_ns)\u001b[0m\n\u001b[1;32m   <a href='file:///home/riccardo/python_venvs/NPlib/lib/python3.9/site-packages/IPython/core/magics/execution.py?line=1159'>1160</a>\u001b[0m \u001b[39mfor\u001b[39;00m index \u001b[39min\u001b[39;00m \u001b[39mrange\u001b[39m(\u001b[39m0\u001b[39m, \u001b[39m10\u001b[39m):\n\u001b[1;32m   <a href='file:///home/riccardo/python_venvs/NPlib/lib/python3.9/site-packages/IPython/core/magics/execution.py?line=1160'>1161</a>\u001b[0m     number \u001b[39m=\u001b[39m \u001b[39m10\u001b[39m \u001b[39m*\u001b[39m\u001b[39m*\u001b[39m index\n\u001b[0;32m-> <a href='file:///home/riccardo/python_venvs/NPlib/lib/python3.9/site-packages/IPython/core/magics/execution.py?line=1161'>1162</a>\u001b[0m     time_number \u001b[39m=\u001b[39m timer\u001b[39m.\u001b[39;49mtimeit(number)\n\u001b[1;32m   <a href='file:///home/riccardo/python_venvs/NPlib/lib/python3.9/site-packages/IPython/core/magics/execution.py?line=1162'>1163</a>\u001b[0m     \u001b[39mif\u001b[39;00m time_number \u001b[39m>\u001b[39m\u001b[39m=\u001b[39m \u001b[39m0.2\u001b[39m:\n\u001b[1;32m   <a href='file:///home/riccardo/python_venvs/NPlib/lib/python3.9/site-packages/IPython/core/magics/execution.py?line=1163'>1164</a>\u001b[0m         \u001b[39mbreak\u001b[39;00m\n",
      "File \u001b[0;32m~/python_venvs/NPlib/lib/python3.9/site-packages/IPython/core/magics/execution.py:156\u001b[0m, in \u001b[0;36mTimer.timeit\u001b[0;34m(self, number)\u001b[0m\n\u001b[1;32m    <a href='file:///home/riccardo/python_venvs/NPlib/lib/python3.9/site-packages/IPython/core/magics/execution.py?line=153'>154</a>\u001b[0m gc\u001b[39m.\u001b[39mdisable()\n\u001b[1;32m    <a href='file:///home/riccardo/python_venvs/NPlib/lib/python3.9/site-packages/IPython/core/magics/execution.py?line=154'>155</a>\u001b[0m \u001b[39mtry\u001b[39;00m:\n\u001b[0;32m--> <a href='file:///home/riccardo/python_venvs/NPlib/lib/python3.9/site-packages/IPython/core/magics/execution.py?line=155'>156</a>\u001b[0m     timing \u001b[39m=\u001b[39m \u001b[39mself\u001b[39;49m\u001b[39m.\u001b[39;49minner(it, \u001b[39mself\u001b[39;49m\u001b[39m.\u001b[39;49mtimer)\n\u001b[1;32m    <a href='file:///home/riccardo/python_venvs/NPlib/lib/python3.9/site-packages/IPython/core/magics/execution.py?line=156'>157</a>\u001b[0m \u001b[39mfinally\u001b[39;00m:\n\u001b[1;32m    <a href='file:///home/riccardo/python_venvs/NPlib/lib/python3.9/site-packages/IPython/core/magics/execution.py?line=157'>158</a>\u001b[0m     \u001b[39mif\u001b[39;00m gcold:\n",
      "File \u001b[0;32m<magic-timeit>:1\u001b[0m, in \u001b[0;36minner\u001b[0;34m(_it, _timer)\u001b[0m\n",
      "File \u001b[0;32m~/python_venvs/NPlib/lib/python3.9/site-packages/numba/core/dispatcher.py:468\u001b[0m, in \u001b[0;36m_DispatcherBase._compile_for_args\u001b[0;34m(self, *args, **kws)\u001b[0m\n\u001b[1;32m    <a href='file:///home/riccardo/python_venvs/NPlib/lib/python3.9/site-packages/numba/core/dispatcher.py?line=463'>464</a>\u001b[0m         msg \u001b[39m=\u001b[39m (\u001b[39mf\u001b[39m\u001b[39m\"\u001b[39m\u001b[39m{\u001b[39;00m\u001b[39mstr\u001b[39m(e)\u001b[39m.\u001b[39mrstrip()\u001b[39m}\u001b[39;00m\u001b[39m \u001b[39m\u001b[39m\\n\u001b[39;00m\u001b[39m\\n\u001b[39;00m\u001b[39mThis error may have been caused \u001b[39m\u001b[39m\"\u001b[39m\n\u001b[1;32m    <a href='file:///home/riccardo/python_venvs/NPlib/lib/python3.9/site-packages/numba/core/dispatcher.py?line=464'>465</a>\u001b[0m                \u001b[39mf\u001b[39m\u001b[39m\"\u001b[39m\u001b[39mby the following argument(s):\u001b[39m\u001b[39m\\n\u001b[39;00m\u001b[39m{\u001b[39;00margs_str\u001b[39m}\u001b[39;00m\u001b[39m\\n\u001b[39;00m\u001b[39m\"\u001b[39m)\n\u001b[1;32m    <a href='file:///home/riccardo/python_venvs/NPlib/lib/python3.9/site-packages/numba/core/dispatcher.py?line=465'>466</a>\u001b[0m         e\u001b[39m.\u001b[39mpatch_message(msg)\n\u001b[0;32m--> <a href='file:///home/riccardo/python_venvs/NPlib/lib/python3.9/site-packages/numba/core/dispatcher.py?line=467'>468</a>\u001b[0m     error_rewrite(e, \u001b[39m'\u001b[39;49m\u001b[39mtyping\u001b[39;49m\u001b[39m'\u001b[39;49m)\n\u001b[1;32m    <a href='file:///home/riccardo/python_venvs/NPlib/lib/python3.9/site-packages/numba/core/dispatcher.py?line=468'>469</a>\u001b[0m \u001b[39mexcept\u001b[39;00m errors\u001b[39m.\u001b[39mUnsupportedError \u001b[39mas\u001b[39;00m e:\n\u001b[1;32m    <a href='file:///home/riccardo/python_venvs/NPlib/lib/python3.9/site-packages/numba/core/dispatcher.py?line=469'>470</a>\u001b[0m     \u001b[39m# Something unsupported is present in the user code, add help info\u001b[39;00m\n\u001b[1;32m    <a href='file:///home/riccardo/python_venvs/NPlib/lib/python3.9/site-packages/numba/core/dispatcher.py?line=470'>471</a>\u001b[0m     error_rewrite(e, \u001b[39m'\u001b[39m\u001b[39munsupported_error\u001b[39m\u001b[39m'\u001b[39m)\n",
      "File \u001b[0;32m~/python_venvs/NPlib/lib/python3.9/site-packages/numba/core/dispatcher.py:409\u001b[0m, in \u001b[0;36m_DispatcherBase._compile_for_args.<locals>.error_rewrite\u001b[0;34m(e, issue_type)\u001b[0m\n\u001b[1;32m    <a href='file:///home/riccardo/python_venvs/NPlib/lib/python3.9/site-packages/numba/core/dispatcher.py?line=406'>407</a>\u001b[0m     \u001b[39mraise\u001b[39;00m e\n\u001b[1;32m    <a href='file:///home/riccardo/python_venvs/NPlib/lib/python3.9/site-packages/numba/core/dispatcher.py?line=407'>408</a>\u001b[0m \u001b[39melse\u001b[39;00m:\n\u001b[0;32m--> <a href='file:///home/riccardo/python_venvs/NPlib/lib/python3.9/site-packages/numba/core/dispatcher.py?line=408'>409</a>\u001b[0m     \u001b[39mraise\u001b[39;00m e\u001b[39m.\u001b[39mwith_traceback(\u001b[39mNone\u001b[39;00m)\n",
      "\u001b[0;31mTypingError\u001b[0m: Failed in nopython mode pipeline (step: nopython frontend)\n- Resolution failure for literal arguments:\nNo implementation of function Function(<function array_dot at 0x7fac07f6e940>) found for signature:\n\n >>> array_dot(array(int16, 2d, C), array(float64, 2d, F))\n\nThere are 2 candidate implementations:\n      - Of which 2 did not match due to:\n      Overload in function 'array_dot': File: numba/np/arrayobj.py: Line 5526.\n        With argument(s): '(array(int16, 2d, C), array(float64, 2d, F))':\n       Rejected as the implementation raised a specific error:\n         TypingError: Failed in nopython mode pipeline (step: nopython frontend)\n       No implementation of function Function(<function dot at 0x7fac70599790>) found for signature:\n\n        >>> dot(array(int16, 2d, C), array(float64, 2d, F))\n\n       There are 4 candidate implementations:\n             - Of which 4 did not match due to:\n             Overload in function '_OverloadWrapper._build.<locals>.ol_generated': File: numba/core/overload_glue.py: Line 129.\n               With argument(s): '(array(int16, 2d, C), array(float64, 2d, F))':\n              Rejected as the implementation raised a specific error:\n                TypingError: np.dot() arguments must all have the same dtype\n         raised from /home/riccardo/python_venvs/NPlib/lib/python3.9/site-packages/numba/core/typing/npydecl.py:915\n\n       During: resolving callee type: Function(<function dot at 0x7fac70599790>)\n       During: typing of call at /home/riccardo/python_venvs/NPlib/lib/python3.9/site-packages/numba/np/arrayobj.py (5529)\n\n\n       File \"../../../python_venvs/NPlib/lib/python3.9/site-packages/numba/np/arrayobj.py\", line 5529:\n           def dot_impl(arr, other):\n               return np.dot(arr, other)\n               ^\n\n  raised from /home/riccardo/python_venvs/NPlib/lib/python3.9/site-packages/numba/core/typeinfer.py:1086\n\n- Resolution failure for non-literal arguments:\nNone\n\nDuring: resolving callee type: BoundFunction((<class 'numba.core.types.npytypes.Array'>, 'dot') for array(int16, 2d, C))\nDuring: typing of call at /tmp/ipykernel_694693/3785498144.py (3)\n\n\nFile \"../../../../../tmp/ipykernel_694693/3785498144.py\", line 3:\n<source missing, REPL/exec in use?>\n"
     ]
    }
   ],
   "source": [
    "@njit\n",
    "def dio(ciao, ciao2):\n",
    "    ciao.dot(ciao2) \n",
    "\n",
    "%timeit dio(system._connectivity_matrix, system._occupation_matrix.T)"
   ]
  },
  {
   "cell_type": "code",
   "execution_count": 55,
   "metadata": {},
   "outputs": [
    {
     "data": {
      "text/plain": [
       "array([[0., 1., 0., ..., 0., 0., 0.],\n",
       "       [1., 0., 0., ..., 0., 0., 0.],\n",
       "       [1., 1., 0., ..., 0., 0., 0.],\n",
       "       ...,\n",
       "       [0., 0., 0., ..., 0., 0., 0.],\n",
       "       [0., 0., 0., ..., 0., 0., 0.],\n",
       "       [0., 0., 0., ..., 0., 0., 0.]])"
      ]
     },
     "execution_count": 55,
     "metadata": {},
     "output_type": "execute_result"
    }
   ],
   "source": [
    "system._connectivity_matrix * system._occupation_matrix[1]"
   ]
  },
  {
   "cell_type": "code",
   "execution_count": 59,
   "metadata": {},
   "outputs": [
    {
     "data": {
      "text/plain": [
       "array([[6., 3.],\n",
       "       [4., 5.],\n",
       "       [4., 5.],\n",
       "       ...,\n",
       "       [5., 4.],\n",
       "       [7., 2.],\n",
       "       [7., 2.]])"
      ]
     },
     "execution_count": 59,
     "metadata": {},
     "output_type": "execute_result"
    }
   ],
   "source": [
    "system._connectivity_matrix.dot(system._occupation_matrix.T)"
   ]
  },
  {
   "cell_type": "code",
   "execution_count": null,
   "metadata": {},
   "outputs": [],
   "source": []
  }
 ],
 "metadata": {
  "interpreter": {
   "hash": "d29b8ea4b98c6d88221684bf26061dc73b9318e208130fe5f0fe0ed42a387f08"
  },
  "kernelspec": {
   "display_name": "Python 3.9.7 ('NPlib')",
   "language": "python",
   "name": "python3"
  },
  "language_info": {
   "codemirror_mode": {
    "name": "ipython",
    "version": 3
   },
   "file_extension": ".py",
   "mimetype": "text/x-python",
   "name": "python",
   "nbconvert_exporter": "python",
   "pygments_lexer": "ipython3",
   "version": "3.9.7"
  },
  "orig_nbformat": 4,
  "vscode": {
   "interpreter": {
    "hash": "b3c440a52e01b8ce2b342ec8185e252740cddfaa72bfddb2122b85802c2ca1f8"
   }
  }
 },
 "nbformat": 4,
 "nbformat_minor": 2
}

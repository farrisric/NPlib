{
 "cells": [
  {
   "cell_type": "code",
   "execution_count": 3,
   "metadata": {},
   "outputs": [
    {
     "name": "stdout",
     "output_type": "stream",
     "text": [
      "137 ms ± 1.18 ms per loop (mean ± std. dev. of 7 runs, 10 loops each)\n"
     ]
    }
   ],
   "source": [
    "from ase.io import read\n",
    "from npl.core import Nanoparticle as NP\n",
    "from npl.descriptors import EnvironmentalTopologies as ETOP\n",
    "import numpy as np\n",
    "\n",
    "system = read(\"/home/riccardo/Scientific_Projects/PtAu_bigNps/300K/10_perc/run2/glo002.xyz\")\n",
    "system = NP.from_atoms(system)\n",
    "\n",
    "%timeit ETOP().create(system)\n"
   ]
  },
  {
   "cell_type": "code",
   "execution_count": 4,
   "metadata": {},
   "outputs": [
    {
     "name": "stdout",
     "output_type": "stream",
     "text": [
      "2.72 ms ± 120 µs per loop (mean ± std. dev. of 7 runs, 100 loops each)\n"
     ]
    }
   ],
   "source": [
    "%timeit ETOP().update(system)"
   ]
  },
  {
   "cell_type": "code",
   "execution_count": 49,
   "metadata": {},
   "outputs": [],
   "source": [
    "class ExchangeMove:\n",
    "    def __init__(self, system):\n",
    "        self.occupation_matrix = system._occupation_matrix\n",
    "        self.a = np.where(self.occupation_matrix==1)[1]\n",
    "        self.b = np.where(self.occupation_matrix==0)[1]\n",
    "\n",
    "    def exchange_move(self):\n",
    "        swap1 = np.random.choice(self.a)\n",
    "        swap2 = np.random.choice(self.b)\n",
    "\n",
    "        self.a[swap1], self.b[swap2] = self.a[swap2], self.b[swap1]\n",
    "\n",
    "        self.occupation_matrix[0,swap1], self.occupation_matrix[1,swap1] = self.occupation_matrix[1,swap1], self.occupation_matrix[0,swap1]\n",
    "        self.occupation_matrix[0,swap2], self.occupation_matrix[1,swap2] = self.occupation_matrix[1,swap2], self.occupation_matrix[0,swap2]\n",
    "\n",
    "ex = ExchangeMove(system)\n",
    "ex.exchange_move()"
   ]
  },
  {
   "cell_type": "code",
   "execution_count": 50,
   "metadata": {},
   "outputs": [],
   "source": [
    "for _ in range(20000):\n",
    "    ex.exchange_move()\n",
    "    ETOP().update(system)"
   ]
  },
  {
   "cell_type": "code",
   "execution_count": 20,
   "metadata": {},
   "outputs": [
    {
     "data": {
      "text/plain": [
       "array([   0,    1,    3, ..., 1460, 1461, 1462])"
      ]
     },
     "execution_count": 20,
     "metadata": {},
     "output_type": "execute_result"
    }
   ],
   "source": [
    "np.where(system._occupation_matrix==1)[1]"
   ]
  },
  {
   "cell_type": "code",
   "execution_count": null,
   "metadata": {},
   "outputs": [],
   "source": []
  }
 ],
 "metadata": {
  "interpreter": {
   "hash": "1af2c333dc3c469d083ee0d813d53a9a150527733fbf5fd5f708941018995228"
  },
  "kernelspec": {
   "display_name": "Python 3.10.6 ('npl_v2')",
   "language": "python",
   "name": "python3"
  },
  "language_info": {
   "codemirror_mode": {
    "name": "ipython",
    "version": 3
   },
   "file_extension": ".py",
   "mimetype": "text/x-python",
   "name": "python",
   "nbconvert_exporter": "python",
   "pygments_lexer": "ipython3",
   "version": "3.10.6"
  },
  "orig_nbformat": 4,
  "vscode": {
   "interpreter": {
    "hash": "b3c440a52e01b8ce2b342ec8185e252740cddfaa72bfddb2122b85802c2ca1f8"
   }
  }
 },
 "nbformat": 4,
 "nbformat_minor": 2
}

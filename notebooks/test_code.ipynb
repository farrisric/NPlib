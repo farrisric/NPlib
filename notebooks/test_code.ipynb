{
 "cells": [
  {
   "cell_type": "code",
   "execution_count": 1,
   "metadata": {},
   "outputs": [],
   "source": [
    "import copy\n",
    "\n",
    "import numpy as np\n",
    "from numba import njit\n",
    "\n",
    "from ase.cluster import Octahedron\n",
    "from ase.io import read\n",
    "\n",
    "from npl.core import Nanoparticle\n",
    "from npl.surrogate_energy_models import TopologicalEnergyModel\n",
    "from npl.descriptors import Topologies"
   ]
  },
  {
   "cell_type": "code",
   "execution_count": 2,
   "metadata": {},
   "outputs": [
    {
     "data": {
      "text/plain": [
       "array([ 2, 12, 10,  0,  0,  0,  0,  0,  0,  0,  0,  0,  0,  0,  0,  0,  0,\n",
       "        0,  0,  0,  0,  0,  0,  0,  0,  0,  0,  0,  0])"
      ]
     },
     "execution_count": 2,
     "metadata": {},
     "output_type": "execute_result"
    }
   ],
   "source": [
    "#system = read(\"/home/riccardo/Scientific_Projects/PtAu_bigNps/300K/10_perc/run2/glo002.xyz\")\n",
    "system = Octahedron('Pt', 2)\n",
    "for f in np.random.choice(len(system), 2, replace=False):\n",
    "    system[f].symbol = 'Y'\n",
    "\n",
    "\n",
    "system = Nanoparticle.from_atoms(system)\n",
    "Topologies(['Pt', 'Y']).get_feature_vector(system)\n",
    "\n",
    "#top = TopologicalEnergyModel(['Pt', 'Y'])\n",
    "#top.get_training_set([system])"
   ]
  },
  {
   "cell_type": "code",
   "execution_count": 3,
   "metadata": {},
   "outputs": [
    {
     "ename": "IndexError",
     "evalue": "index 1 is out of bounds for axis 0 with size 1",
     "output_type": "error",
     "traceback": [
      "\u001b[0;31m---------------------------------------------------------------------------\u001b[0m",
      "\u001b[0;31mIndexError\u001b[0m                                Traceback (most recent call last)",
      "Cell \u001b[0;32mIn [3], line 5\u001b[0m\n\u001b[1;32m      3\u001b[0m system \u001b[38;5;241m=\u001b[39m Octahedron(\u001b[38;5;124m'\u001b[39m\u001b[38;5;124mPt\u001b[39m\u001b[38;5;124m'\u001b[39m, \u001b[38;5;241m2\u001b[39m)\n\u001b[1;32m      4\u001b[0m structure_container \u001b[38;5;241m=\u001b[39m StructureContainer(Topologies([\u001b[38;5;124m'\u001b[39m\u001b[38;5;124mPt\u001b[39m\u001b[38;5;124m'\u001b[39m, \u001b[38;5;124m'\u001b[39m\u001b[38;5;124mY\u001b[39m\u001b[38;5;124m'\u001b[39m]))\n\u001b[0;32m----> 5\u001b[0m \u001b[43mstructure_container\u001b[49m\u001b[38;5;241;43m.\u001b[39;49m\u001b[43madd_structure\u001b[49m\u001b[43m(\u001b[49m\u001b[43msystem\u001b[49m\u001b[43m)\u001b[49m\n",
      "File \u001b[0;32m~/Projects/NPlib/npl/core/structure_container.py:66\u001b[0m, in \u001b[0;36mStructureContainer.add_structure\u001b[0;34m(self, structure, user_tag, properties, allow_duplicate, sanity_check)\u001b[0m\n\u001b[1;32m     <a href='file:///home/riccardo/Projects/NPlib/npl/core/structure_container.py?line=63'>64</a>\u001b[0m \u001b[39m# check if there exist structures with identical cluster vectors\u001b[39;00m\n\u001b[1;32m     <a href='file:///home/riccardo/Projects/NPlib/npl/core/structure_container.py?line=64'>65</a>\u001b[0m structure_copy \u001b[39m=\u001b[39m structure\u001b[39m.\u001b[39mcopy()\n\u001b[0;32m---> <a href='file:///home/riccardo/Projects/NPlib/npl/core/structure_container.py?line=65'>66</a>\u001b[0m feature_vector \u001b[39m=\u001b[39m \u001b[39mself\u001b[39;49m\u001b[39m.\u001b[39;49m_descriptor\u001b[39m.\u001b[39;49mget_feature_vector(structure_copy)\n\u001b[1;32m     <a href='file:///home/riccardo/Projects/NPlib/npl/core/structure_container.py?line=66'>67</a>\u001b[0m \u001b[39mif\u001b[39;00m \u001b[39mnot\u001b[39;00m allow_duplicate:\n\u001b[1;32m     <a href='file:///home/riccardo/Projects/NPlib/npl/core/structure_container.py?line=67'>68</a>\u001b[0m     \u001b[39mfor\u001b[39;00m i, fs \u001b[39min\u001b[39;00m \u001b[39menumerate\u001b[39m(\u001b[39mself\u001b[39m):\n",
      "File \u001b[0;32m~/Projects/NPlib/npl/descriptors/topologies.py:56\u001b[0m, in \u001b[0;36mTopologies.get_feature_vector\u001b[0;34m(self, system)\u001b[0m\n\u001b[1;32m     <a href='file:///home/riccardo/Projects/NPlib/npl/descriptors/topologies.py?line=52'>53</a>\u001b[0m \u001b[39mif\u001b[39;00m \u001b[39mnot\u001b[39;00m \u001b[39misinstance\u001b[39m(system, Nanoparticle):\n\u001b[1;32m     <a href='file:///home/riccardo/Projects/NPlib/npl/descriptors/topologies.py?line=53'>54</a>\u001b[0m     system \u001b[39m=\u001b[39m Nanoparticle\u001b[39m.\u001b[39mfrom_atoms(system)\n\u001b[0;32m---> <a href='file:///home/riccardo/Projects/NPlib/npl/descriptors/topologies.py?line=55'>56</a>\u001b[0m \u001b[39mself\u001b[39;49m\u001b[39m.\u001b[39;49m_compute_all_atom_features(system)\n\u001b[1;32m     <a href='file:///home/riccardo/Projects/NPlib/npl/descriptors/topologies.py?line=56'>57</a>\u001b[0m \u001b[39mreturn\u001b[39;00m system\u001b[39m.\u001b[39matom_features[\u001b[39mself\u001b[39m\u001b[39m.\u001b[39mname]\u001b[39m.\u001b[39msum(axis\u001b[39m=\u001b[39m\u001b[39m0\u001b[39m)\n",
      "File \u001b[0;32m~/Projects/NPlib/npl/descriptors/topologies.py:49\u001b[0m, in \u001b[0;36mTopologies._compute_all_atom_features\u001b[0;34m(self, system)\u001b[0m\n\u001b[1;32m     <a href='file:///home/riccardo/Projects/NPlib/npl/descriptors/topologies.py?line=45'>46</a>\u001b[0m system\u001b[39m.\u001b[39matom_features[\u001b[39mself\u001b[39m\u001b[39m.\u001b[39mname] \u001b[39m=\u001b[39m np\u001b[39m.\u001b[39mzeros((\u001b[39mlen\u001b[39m(system), \u001b[39mself\u001b[39m\u001b[39m.\u001b[39mn_features), dtype\u001b[39m=\u001b[39mnp\u001b[39m.\u001b[39mint8)\n\u001b[1;32m     <a href='file:///home/riccardo/Projects/NPlib/npl/descriptors/topologies.py?line=47'>48</a>\u001b[0m \u001b[39mfor\u001b[39;00m atom_index \u001b[39min\u001b[39;00m \u001b[39mrange\u001b[39m(\u001b[39mlen\u001b[39m(system)):\n\u001b[0;32m---> <a href='file:///home/riccardo/Projects/NPlib/npl/descriptors/topologies.py?line=48'>49</a>\u001b[0m     \u001b[39mself\u001b[39;49m\u001b[39m.\u001b[39;49m_compute_atom_features(system, atom_index, system\u001b[39m.\u001b[39;49matom_features[\u001b[39mself\u001b[39;49m\u001b[39m.\u001b[39;49mname][atom_index])\n",
      "File \u001b[0;32m~/Projects/NPlib/npl/descriptors/topologies.py:43\u001b[0m, in \u001b[0;36mTopologies._compute_atom_features\u001b[0;34m(self, system, atom_index, row)\u001b[0m\n\u001b[1;32m     <a href='file:///home/riccardo/Projects/NPlib/npl/descriptors/topologies.py?line=39'>40</a>\u001b[0m key \u001b[39m=\u001b[39m system[atom_index]\u001b[39m.\u001b[39mnumber\n\u001b[1;32m     <a href='file:///home/riccardo/Projects/NPlib/npl/descriptors/topologies.py?line=41'>42</a>\u001b[0m \u001b[39mfor\u001b[39;00m element, feature_index \u001b[39min\u001b[39;00m \u001b[39menumerate\u001b[39m(\u001b[39mself\u001b[39m\u001b[39m.\u001b[39mbond_type_per_element[key]):\n\u001b[0;32m---> <a href='file:///home/riccardo/Projects/NPlib/npl/descriptors/topologies.py?line=42'>43</a>\u001b[0m     row[feature_index] \u001b[39m+\u001b[39m\u001b[39m=\u001b[39m np\u001b[39m.\u001b[39mdot(system\u001b[39m.\u001b[39mCM[atom_index], system\u001b[39m.\u001b[39;49mOM[element])\n",
      "\u001b[0;31mIndexError\u001b[0m: index 1 is out of bounds for axis 0 with size 1"
     ]
    }
   ],
   "source": [
    "from npl.core import StructureContainer\n",
    "\n",
    "system = Octahedron('Pt', 2)\n",
    "structure_container = StructureContainer(Topologies(['Pt', 'Y']))\n",
    "structure_container.add_structure(system)"
   ]
  },
  {
   "cell_type": "code",
   "execution_count": 10,
   "metadata": {},
   "outputs": [
    {
     "data": {
      "text/plain": [
       "[array([1]), array([2])]"
      ]
     },
     "execution_count": 10,
     "metadata": {},
     "output_type": "execute_result"
    }
   ],
   "source": [
    "from typing import List\n",
    "\n",
    "def ciao() -> List[np.array]:\n",
    "    return [np.array([1]), np.array([2])]\n",
    "\n",
    "ciao()"
   ]
  },
  {
   "cell_type": "code",
   "execution_count": 2,
   "metadata": {},
   "outputs": [
    {
     "ename": "IndentationError",
     "evalue": "expected an indented block (topological_energy_model.py, line 19)",
     "output_type": "error",
     "traceback": [
      "Traceback \u001b[0;36m(most recent call last)\u001b[0m:\n",
      "\u001b[0m  File \u001b[1;32m~/python_venvs/NPlib/lib/python3.9/site-packages/IPython/core/interactiveshell.py:3378\u001b[0m in \u001b[1;35mrun_code\u001b[0m\n    exec(code_obj, self.user_global_ns, self.user_ns)\u001b[0m\n",
      "\u001b[0;36m  Cell \u001b[0;32mIn [2], line 1\u001b[0;36m\n\u001b[0;31m    from npl.surrogate_energy_models import topological_energy_model\u001b[0;36m\n",
      "\u001b[0;36m  File \u001b[0;32m~/Projects/NPlib/npl/surrogate_energy_models/topological_energy_model.py:19\u001b[0;36m\u001b[0m\n\u001b[0;31m    def train(self, training_set : List[Atoms]):\u001b[0m\n\u001b[0m    ^\u001b[0m\n\u001b[0;31mIndentationError\u001b[0m\u001b[0;31m:\u001b[0m expected an indented block\n"
     ]
    }
   ],
   "source": [
    "from npl.surrogate_energy_models import topological_energy_model"
   ]
  },
  {
   "cell_type": "code",
   "execution_count": 4,
   "metadata": {},
   "outputs": [
    {
     "name": "stdout",
     "output_type": "stream",
     "text": [
      "164 µs ± 756 ns per loop (mean ± std. dev. of 7 runs, 10,000 loops each)\n"
     ]
    }
   ],
   "source": [
    "%timeit exchange_operator.perform_operation(system)"
   ]
  },
  {
   "cell_type": "code",
   "execution_count": 5,
   "metadata": {},
   "outputs": [
    {
     "name": "stdout",
     "output_type": "stream",
     "text": [
      "88.7 µs ± 471 ns per loop (mean ± std. dev. of 7 runs, 10,000 loops each)\n"
     ]
    }
   ],
   "source": [
    "%timeit top.create(system)"
   ]
  },
  {
   "cell_type": "code",
   "execution_count": 2,
   "metadata": {},
   "outputs": [
    {
     "data": {
      "text/plain": [
       "[39, 39, 78, 78, 78, 78]"
      ]
     },
     "execution_count": 2,
     "metadata": {},
     "output_type": "execute_result"
    }
   ],
   "source": [
    "exchange_operator.perform_operation(system)\n",
    "top.create(system)\n",
    "system.get_numbers_from_occupation_matrix()"
   ]
  },
  {
   "cell_type": "code",
   "execution_count": 3,
   "metadata": {},
   "outputs": [
    {
     "data": {
      "text/plain": [
       "[78, 78, 78, 39, 78, 39]"
      ]
     },
     "execution_count": 3,
     "metadata": {},
     "output_type": "execute_result"
    }
   ],
   "source": [
    "exchange_operator.revert_operation(system)\n",
    "system.get_numbers_from_occupation_matrix()"
   ]
  },
  {
   "cell_type": "code",
   "execution_count": 13,
   "metadata": {},
   "outputs": [
    {
     "data": {
      "text/plain": [
       "array([0, 0, 0, ..., 0, 0, 0])"
      ]
     },
     "execution_count": 13,
     "metadata": {},
     "output_type": "execute_result"
    }
   ],
   "source": [
    "np.array(old_indices) - np.array(new_old_indices)"
   ]
  },
  {
   "cell_type": "code",
   "execution_count": 4,
   "metadata": {},
   "outputs": [
    {
     "data": {
      "text/plain": [
       "array([1, 0, 0], dtype=int8)"
      ]
     },
     "execution_count": 4,
     "metadata": {},
     "output_type": "execute_result"
    }
   ],
   "source": [
    "exchange_operator = ExchangeOperator(system, 0.5)\n",
    "for _ in range(1000):\n",
    "    exchange_operator.perform_operation(system)\n",
    "system.OM.T[1]\n",
    "#new_indices = system.get_numbers_from_occupation_matrix()"
   ]
  },
  {
   "cell_type": "code",
   "execution_count": 12,
   "metadata": {},
   "outputs": [
    {
     "data": {
      "text/plain": [
       "array([0, 0, 1], dtype=int8)"
      ]
     },
     "execution_count": 12,
     "metadata": {},
     "output_type": "execute_result"
    }
   ],
   "source": [
    "system.OM.T[1]"
   ]
  },
  {
   "cell_type": "code",
   "execution_count": 8,
   "metadata": {},
   "outputs": [
    {
     "name": "stdout",
     "output_type": "stream",
     "text": [
      "153 µs ± 450 ns per loop (mean ± std. dev. of 7 runs, 10,000 loops each)\n"
     ]
    }
   ],
   "source": [
    "%timeit exchange_operator.perform_operation(system)"
   ]
  },
  {
   "cell_type": "code",
   "execution_count": 5,
   "metadata": {},
   "outputs": [],
   "source": [
    "exchange_operator = ExchangeOperator(system, 0.5)\n",
    "exchange_operator.perform_operation(system)\n",
    "exchange_operator.revert_operation(system)"
   ]
  },
  {
   "cell_type": "code",
   "execution_count": 3,
   "metadata": {},
   "outputs": [
    {
     "ename": "NameError",
     "evalue": "",
     "output_type": "error",
     "traceback": [
      "\u001b[0;31m---------------------------------------------------------------------------\u001b[0m",
      "\u001b[0;31mNameError\u001b[0m                                 Traceback (most recent call last)",
      "Cell \u001b[0;32mIn [3], line 1\u001b[0m\n\u001b[0;32m----> 1\u001b[0m \u001b[43msystem\u001b[49m\u001b[38;5;241;43m.\u001b[39;49m\u001b[43mget_number_index\u001b[49m\u001b[43m(\u001b[49m\u001b[38;5;241;43m78\u001b[39;49m\u001b[43m)\u001b[49m\n",
      "File \u001b[0;32m~/Projects/NPlib/npl/core/nanoparticle.py:170\u001b[0m, in \u001b[0;36mNanoparticle.get_number_index\u001b[0;34m(self, atomic_number)\u001b[0m\n\u001b[1;32m    <a href='file:///home/riccardo/Projects/NPlib/npl/core/nanoparticle.py?line=167'>168</a>\u001b[0m     \u001b[39mreturn\u001b[39;00m \u001b[39mself\u001b[39m\u001b[39m.\u001b[39mnumbers_indices[atomic_numbers]\n\u001b[1;32m    <a href='file:///home/riccardo/Projects/NPlib/npl/core/nanoparticle.py?line=168'>169</a>\u001b[0m \u001b[39melse\u001b[39;00m:\n\u001b[0;32m--> <a href='file:///home/riccardo/Projects/NPlib/npl/core/nanoparticle.py?line=169'>170</a>\u001b[0m     \u001b[39mraise\u001b[39;00m \u001b[39mNameError\u001b[39;00m\n",
      "\u001b[0;31mNameError\u001b[0m: "
     ]
    }
   ],
   "source": [
    "system.get_number_index(78)"
   ]
  },
  {
   "cell_type": "code",
   "execution_count": 3,
   "metadata": {},
   "outputs": [
    {
     "data": {
      "text/plain": [
       "array([ 5, 15, 24])"
      ]
     },
     "execution_count": 3,
     "metadata": {},
     "output_type": "execute_result"
    }
   ],
   "source": [
    "np.unique([5,24,15])"
   ]
  },
  {
   "cell_type": "code",
   "execution_count": 18,
   "metadata": {},
   "outputs": [
    {
     "data": {
      "text/plain": [
       "0"
      ]
     },
     "execution_count": 18,
     "metadata": {},
     "output_type": "execute_result"
    }
   ],
   "source": [
    "\n",
    "index = np.where(system.get_unique_numbers() == 78)[0][0]\n",
    "index"
   ]
  },
  {
   "cell_type": "code",
   "execution_count": 2,
   "metadata": {},
   "outputs": [
    {
     "data": {
      "text/plain": [
       "array([   2,   25,   26, ..., 1460, 1461, 1462])"
      ]
     },
     "execution_count": 2,
     "metadata": {},
     "output_type": "execute_result"
    }
   ],
   "source": [
    "system.get_occupation_indices_by_symbol(78)"
   ]
  },
  {
   "cell_type": "code",
   "execution_count": 3,
   "metadata": {},
   "outputs": [
    {
     "name": "stdout",
     "output_type": "stream",
     "text": [
      "[0 0 0 ... 0 0 0]\n",
      "[0 0 0 0 0 0 0 0 0 0 0 0 0 0 0 0 0 0 0 0 0 0 0 0 0 0 0 0 0 0 0 0 0 0 0 0 0\n",
      " 0 0 0 0 0 0 0 0 0 0 0 0 0 0 0 0 0 0 0 0 0 0 0 0 0 0 0 0 0 0 0 0 0 0 0 0 0\n",
      " 0 0 0 0 0 0 0 0 0 0 0 0 0 0 0 0 0 0 0 0 0 0 0 0 0 0 0 0 0 0 0 0 0 0 0 0 0\n",
      " 0 0 0 0 0 0 0 0 0 0 0 0 0 0 0 0 0 0 0 0 0 0 0 0 0 0 0 0 0 0 0 0 0 0 0]\n"
     ]
    }
   ],
   "source": [
    "for atomic_number in system.get_unique_numbers():\n",
    "    print(system.get_occupation_indices_by_symbol(atomic_number))"
   ]
  },
  {
   "cell_type": "code",
   "execution_count": 3,
   "metadata": {},
   "outputs": [
    {
     "ename": "NameError",
     "evalue": "name 'exchange_operator' is not defined",
     "output_type": "error",
     "traceback": [
      "\u001b[0;31m---------------------------------------------------------------------------\u001b[0m",
      "\u001b[0;31mNameError\u001b[0m                                 Traceback (most recent call last)",
      "Cell \u001b[0;32mIn [3], line 1\u001b[0m\n\u001b[0;32m----> 1\u001b[0m \u001b[43mexchange_operator\u001b[49m\u001b[38;5;241m.\u001b[39mindices_by_element\n",
      "\u001b[0;31mNameError\u001b[0m: name 'exchange_operator' is not defined"
     ]
    }
   ],
   "source": [
    "exchange_operator.indices_by_element"
   ]
  },
  {
   "cell_type": "code",
   "execution_count": 6,
   "metadata": {},
   "outputs": [
    {
     "data": {
      "text/plain": [
       "([(0, 0)], [(78, 79)])"
      ]
     },
     "execution_count": 6,
     "metadata": {},
     "output_type": "execute_result"
    }
   ],
   "source": [
    "exchange_operator.get_swap_indices()"
   ]
  },
  {
   "cell_type": "code",
   "execution_count": 4,
   "metadata": {},
   "outputs": [
    {
     "ename": "IndexError",
     "evalue": "index 2 is out of bounds for axis 0 with size 2",
     "output_type": "error",
     "traceback": [
      "\u001b[0;31m---------------------------------------------------------------------------\u001b[0m",
      "\u001b[0;31mIndexError\u001b[0m                                Traceback (most recent call last)",
      "Cell \u001b[0;32mIn [4], line 1\u001b[0m\n\u001b[0;32m----> 1\u001b[0m \u001b[43msystem\u001b[49m\u001b[38;5;241;43m.\u001b[39;49m\u001b[43mget_occupation_indices_by_symbol\u001b[49m\u001b[43m(\u001b[49m\u001b[38;5;124;43m'\u001b[39;49m\u001b[38;5;124;43mPt\u001b[39;49m\u001b[38;5;124;43m'\u001b[39;49m\u001b[43m)\u001b[49m\n",
      "File \u001b[0;32m~/Projects/NPlib/npl/core/nanoparticle.py:166\u001b[0m, in \u001b[0;36mNanoparticle.get_occupation_indices_by_symbol\u001b[0;34m(self, symbol)\u001b[0m\n\u001b[1;32m    <a href='file:///home/riccardo/Projects/NPlib/npl/core/nanoparticle.py?line=162'>163</a>\u001b[0m unique_atomic_numbers \u001b[39m=\u001b[39m \u001b[39mself\u001b[39m\u001b[39m.\u001b[39mnumbers\n\u001b[1;32m    <a href='file:///home/riccardo/Projects/NPlib/npl/core/nanoparticle.py?line=163'>164</a>\u001b[0m index \u001b[39m=\u001b[39m np\u001b[39m.\u001b[39mwhere(unique_atomic_numbers \u001b[39m==\u001b[39m symbol)[\u001b[39m0\u001b[39m]\n\u001b[0;32m--> <a href='file:///home/riccardo/Projects/NPlib/npl/core/nanoparticle.py?line=165'>166</a>\u001b[0m \u001b[39mreturn\u001b[39;00m \u001b[39mself\u001b[39;49m\u001b[39m.\u001b[39;49mOM[index]\n",
      "\u001b[0;31mIndexError\u001b[0m: index 2 is out of bounds for axis 0 with size 2"
     ]
    }
   ],
   "source": [
    "system.get_occupation_indices_by_symbol('Pt')"
   ]
  },
  {
   "cell_type": "code",
   "execution_count": 9,
   "metadata": {},
   "outputs": [
    {
     "name": "stdout",
     "output_type": "stream",
     "text": [
      "(0, 0)\n",
      "(0, 1)\n",
      "(0, 2)\n",
      "(1, 1)\n",
      "(1, 2)\n",
      "(2, 2)\n"
     ]
    }
   ],
   "source": [
    "from itertools import combinations_with_replacement\n",
    "\n",
    "for f in combinations_with_replacement(range(len(system.OM)),2):\n",
    "    print(f)"
   ]
  },
  {
   "cell_type": "code",
   "execution_count": 5,
   "metadata": {},
   "outputs": [
    {
     "data": {
      "text/plain": [
       "array([    0,     0,    12, 13488,  1116,   936,     0,     0,     0,\n",
       "           0,     0,     0,     0,     0,     0,     0,     0,     0,\n",
       "           0,     0,     0,     0,     0,     0,     0,     0,     0,\n",
       "           0,     0,     0,     0,     0,     0,     0,     0,     0,\n",
       "           0,     0,     0,     0,     0,     0,     0,     0,     0])"
      ]
     },
     "execution_count": 5,
     "metadata": {},
     "output_type": "execute_result"
    }
   ],
   "source": [
    "system.atom_features['TOP'].sum(axis=0)"
   ]
  },
  {
   "cell_type": "code",
   "execution_count": 26,
   "metadata": {},
   "outputs": [
    {
     "data": {
      "text/plain": [
       "array([0, 0, 0, 0, 0], dtype=int8)"
      ]
     },
     "execution_count": 26,
     "metadata": {},
     "output_type": "execute_result"
    }
   ],
   "source": [
    "np.zeros(5, dtype=np.int8)"
   ]
  },
  {
   "cell_type": "code",
   "execution_count": 14,
   "metadata": {},
   "outputs": [
    {
     "data": {
      "text/plain": [
       "array(['Au', 'Ni', 'Pt'], dtype='<U2')"
      ]
     },
     "execution_count": 14,
     "metadata": {},
     "output_type": "execute_result"
    }
   ],
   "source": [
    "np.unique(system.symbols)"
   ]
  },
  {
   "cell_type": "code",
   "execution_count": 16,
   "metadata": {},
   "outputs": [
    {
     "data": {
      "text/plain": [
       "[(28, 28), (28, 78), (28, 79), (78, 78), (78, 79), (79, 79)]"
      ]
     },
     "execution_count": 16,
     "metadata": {},
     "output_type": "execute_result"
    }
   ],
   "source": [
    "top.bond_types"
   ]
  },
  {
   "cell_type": "code",
   "execution_count": 15,
   "metadata": {},
   "outputs": [
    {
     "data": {
      "text/plain": [
       "{28: [0, 1, 2], 78: [1, 3, 4], 79: [2, 4, 5]}"
      ]
     },
     "execution_count": 15,
     "metadata": {},
     "output_type": "execute_result"
    }
   ],
   "source": [
    "top.bond_type_per_element"
   ]
  },
  {
   "cell_type": "code",
   "execution_count": 2,
   "metadata": {},
   "outputs": [
    {
     "name": "stdout",
     "output_type": "stream",
     "text": [
      "0\n"
     ]
    },
    {
     "ename": "TypeError",
     "evalue": "Cannot interpret '0' as a data type",
     "output_type": "error",
     "traceback": [
      "\u001b[0;31m---------------------------------------------------------------------------\u001b[0m",
      "\u001b[0;31mTypeError\u001b[0m                                 Traceback (most recent call last)",
      "Cell \u001b[0;32mIn [2], line 4\u001b[0m\n\u001b[1;32m      1\u001b[0m \u001b[38;5;28;01mfrom\u001b[39;00m \u001b[38;5;21;01mnpl\u001b[39;00m\u001b[38;5;21;01m.\u001b[39;00m\u001b[38;5;21;01mdescriptors\u001b[39;00m \u001b[38;5;28;01mimport\u001b[39;00m Topologies\n\u001b[1;32m      3\u001b[0m top \u001b[38;5;241m=\u001b[39m Topologies(np\u001b[38;5;241m.\u001b[39munique(system\u001b[38;5;241m.\u001b[39msymbols))\n\u001b[0;32m----> 4\u001b[0m \u001b[43mtop\u001b[49m\u001b[38;5;241;43m.\u001b[39;49m\u001b[43mcreate\u001b[49m\u001b[43m(\u001b[49m\u001b[43msystem\u001b[49m\u001b[43m)\u001b[49m\n",
      "File \u001b[0;32m~/Projects/NPlib/npl/descriptors/topologies.py:53\u001b[0m, in \u001b[0;36mTopologies.create\u001b[0;34m(self, system)\u001b[0m\n\u001b[1;32m     <a href='file:///home/riccardo/Projects/NPlib/npl/descriptors/topologies.py?line=51'>52</a>\u001b[0m \u001b[39mdef\u001b[39;00m \u001b[39mcreate\u001b[39m(\u001b[39mself\u001b[39m, system):\n\u001b[0;32m---> <a href='file:///home/riccardo/Projects/NPlib/npl/descriptors/topologies.py?line=52'>53</a>\u001b[0m     \u001b[39mself\u001b[39;49m\u001b[39m.\u001b[39;49m_compute_all_atom_features(system)\n",
      "File \u001b[0;32m~/Projects/NPlib/npl/descriptors/topologies.py:44\u001b[0m, in \u001b[0;36mTopologies._compute_all_atom_features\u001b[0;34m(self, system)\u001b[0m\n\u001b[1;32m     <a href='file:///home/riccardo/Projects/NPlib/npl/descriptors/topologies.py?line=41'>42</a>\u001b[0m \u001b[39mdef\u001b[39;00m \u001b[39m_compute_all_atom_features\u001b[39m(\u001b[39mself\u001b[39m, system):\n\u001b[1;32m     <a href='file:///home/riccardo/Projects/NPlib/npl/descriptors/topologies.py?line=42'>43</a>\u001b[0m     \u001b[39mprint\u001b[39m(\u001b[39mself\u001b[39m\u001b[39m.\u001b[39mn_features)\n\u001b[0;32m---> <a href='file:///home/riccardo/Projects/NPlib/npl/descriptors/topologies.py?line=43'>44</a>\u001b[0m     all_atom_features \u001b[39m=\u001b[39m np\u001b[39m.\u001b[39;49mzeros(\u001b[39mlen\u001b[39;49m(system), \u001b[39mself\u001b[39;49m\u001b[39m.\u001b[39;49mn_features)\n\u001b[1;32m     <a href='file:///home/riccardo/Projects/NPlib/npl/descriptors/topologies.py?line=45'>46</a>\u001b[0m     \u001b[39mprint\u001b[39m(all_atom_features\u001b[39m.\u001b[39mshape)\n\u001b[1;32m     <a href='file:///home/riccardo/Projects/NPlib/npl/descriptors/topologies.py?line=46'>47</a>\u001b[0m     \u001b[39mfor\u001b[39;00m atom_index \u001b[39min\u001b[39;00m \u001b[39mrange\u001b[39m(\u001b[39mlen\u001b[39m(system)):\n",
      "\u001b[0;31mTypeError\u001b[0m: Cannot interpret '0' as a data type"
     ]
    }
   ],
   "source": [
    "from npl.descriptors import Topologies\n",
    "\n",
    "top = Topologies(np.unique(system.symbols))\n",
    "top.create(system)"
   ]
  },
  {
   "cell_type": "code",
   "execution_count": null,
   "metadata": {},
   "outputs": [],
   "source": [
    "from itertools import combinations_with_replacement\n",
    "\n",
    "atomic_numbers = np.unique(system.numbers)\n",
    "\n",
    "bonds_types = [x for x in combinations_with_replacement(atomic_numbers, 2)]\n",
    "bond_types_order = {x : [] for x in atomic_numbers}\n",
    "\n",
    "for atomic_number in atomic_numbers:\n",
    "    for bond_type in bonds_types:\n",
    "        if atomic_number in bond_type:\n",
    "            bond_types_order[atomic_number].append(bonds_types.index(bond_type))\n",
    "\n"
   ]
  },
  {
   "cell_type": "code",
   "execution_count": 4,
   "metadata": {},
   "outputs": [],
   "source": [
    "def compute_atom_features(system, i):\n",
    "    key = system[i].number\n",
    "    vector = np.zeros(len(bonds_types))\n",
    "    for l, bond_type in enumerate(bond_types_order[key]):\n",
    "        vector[bond_type] += np.dot(CM[:,i], OM[l])\n",
    "    \n",
    "    return vector"
   ]
  },
  {
   "cell_type": "code",
   "execution_count": 5,
   "metadata": {},
   "outputs": [
    {
     "data": {
      "text/plain": [
       "array([28, 78, 79])"
      ]
     },
     "execution_count": 5,
     "metadata": {},
     "output_type": "execute_result"
    }
   ],
   "source": [
    "atomic_numbers"
   ]
  },
  {
   "cell_type": "code",
   "execution_count": 71,
   "metadata": {},
   "outputs": [
    {
     "data": {
      "text/plain": [
       "{28: [0, 1, 2], 78: [1, 3, 4], 79: [2, 4, 5]}"
      ]
     },
     "execution_count": 71,
     "metadata": {},
     "output_type": "execute_result"
    }
   ],
   "source": [
    "bond_types_order"
   ]
  },
  {
   "cell_type": "code",
   "execution_count": 7,
   "metadata": {},
   "outputs": [
    {
     "data": {
      "text/plain": [
       "array([0., 0., 0., 0., 5., 7.])"
      ]
     },
     "execution_count": 7,
     "metadata": {},
     "output_type": "execute_result"
    }
   ],
   "source": [
    "compute_atom_features(system, 30)"
   ]
  },
  {
   "cell_type": "code",
   "execution_count": 68,
   "metadata": {},
   "outputs": [
    {
     "data": {
      "text/plain": [
       "Atom('Au', [47.8574, 31.9049, 51.8455], tag=0, momentum=[0.0, 0.0, 0.0], mass=196.966569, magmom=0.0, charge=0.0, index=30)"
      ]
     },
     "execution_count": 68,
     "metadata": {},
     "output_type": "execute_result"
    }
   ],
   "source": [
    "system[30]"
   ]
  },
  {
   "cell_type": "code",
   "execution_count": 57,
   "metadata": {},
   "outputs": [
    {
     "data": {
      "text/plain": [
       "{28: [0, 1, 2], 78: [1, 3, 4], 79: [2, 4, 5]}"
      ]
     },
     "execution_count": 57,
     "metadata": {},
     "output_type": "execute_result"
    }
   ],
   "source": [
    "bond_types_order"
   ]
  },
  {
   "cell_type": "code",
   "execution_count": 62,
   "metadata": {},
   "outputs": [],
   "source": [
    "vector = np.zeros(len(bonds_types))\n",
    "for i in range(len(system)):\n",
    "    key = system[i].number\n",
    "    \n",
    "    for l, bond_type in enumerate(bond_types_order[key]):\n",
    "        vector[bond_type] += np.dot(CM[i], OM[l])\n"
   ]
  },
  {
   "cell_type": "code",
   "execution_count": 34,
   "metadata": {},
   "outputs": [],
   "source": [
    "class ExchangeMove:\n",
    "    def __init__(self, system):\n",
    "        self.occupation_matrix = system._occupation_matrix\n",
    "        self.a = np.where(self.occupation_matrix==1)[1]\n",
    "        self.b = np.where(self.occupation_matrix==0)[1]\n",
    "\n",
    "    def exchange_move(self):\n",
    "        swap1 = np.random.choice(self.a)\n",
    "        swap2 = np.random.choice(self.b)\n",
    "\n",
    "        self.a[swap1], self.b[swap2] = self.a[swap2], self.b[swap1]\n",
    "\n",
    "        self.occupation_matrix[0,swap1], self.occupation_matrix[1,swap1] = self.occupation_matrix[1,swap1], self.occupation_matrix[0,swap1]\n",
    "        self.occupation_matrix[0,swap2], self.occupation_matrix[1,swap2] = self.occupation_matrix[1,swap2], self.occupation_matrix[0,swap2]\n",
    "\n",
    "ex = ExchangeMove(system)\n",
    "ex.exchange_move()"
   ]
  },
  {
   "cell_type": "code",
   "execution_count": 39,
   "metadata": {},
   "outputs": [],
   "source": [
    "for _ in range(20000):\n",
    "    ex.exchange_move()\n",
    "    bond_matrix = system.get_bond_matrix()\n",
    "    get_top_descriptors(system._occupation_matrix, bond_matrix)"
   ]
  },
  {
   "cell_type": "code",
   "execution_count": 20,
   "metadata": {},
   "outputs": [
    {
     "data": {
      "text/plain": [
       "array([   0,    1,    3, ..., 1460, 1461, 1462])"
      ]
     },
     "execution_count": 20,
     "metadata": {},
     "output_type": "execute_result"
    }
   ],
   "source": [
    "np.where(system._occupation_matrix==1)[1]"
   ]
  },
  {
   "cell_type": "code",
   "execution_count": 63,
   "metadata": {},
   "outputs": [
    {
     "ename": "TypingError",
     "evalue": "Failed in nopython mode pipeline (step: nopython frontend)\n- Resolution failure for literal arguments:\nNo implementation of function Function(<function array_dot at 0x7fac07f6e940>) found for signature:\n\n >>> array_dot(array(int16, 2d, C), array(float64, 2d, F))\n\nThere are 2 candidate implementations:\n      - Of which 2 did not match due to:\n      Overload in function 'array_dot': File: numba/np/arrayobj.py: Line 5526.\n        With argument(s): '(array(int16, 2d, C), array(float64, 2d, F))':\n       Rejected as the implementation raised a specific error:\n         TypingError: Failed in nopython mode pipeline (step: nopython frontend)\n       No implementation of function Function(<function dot at 0x7fac70599790>) found for signature:\n\n        >>> dot(array(int16, 2d, C), array(float64, 2d, F))\n\n       There are 4 candidate implementations:\n             - Of which 4 did not match due to:\n             Overload in function '_OverloadWrapper._build.<locals>.ol_generated': File: numba/core/overload_glue.py: Line 129.\n               With argument(s): '(array(int16, 2d, C), array(float64, 2d, F))':\n              Rejected as the implementation raised a specific error:\n                TypingError: np.dot() arguments must all have the same dtype\n         raised from /home/riccardo/python_venvs/NPlib/lib/python3.9/site-packages/numba/core/typing/npydecl.py:915\n\n       During: resolving callee type: Function(<function dot at 0x7fac70599790>)\n       During: typing of call at /home/riccardo/python_venvs/NPlib/lib/python3.9/site-packages/numba/np/arrayobj.py (5529)\n\n\n       File \"../../../python_venvs/NPlib/lib/python3.9/site-packages/numba/np/arrayobj.py\", line 5529:\n           def dot_impl(arr, other):\n               return np.dot(arr, other)\n               ^\n\n  raised from /home/riccardo/python_venvs/NPlib/lib/python3.9/site-packages/numba/core/typeinfer.py:1086\n\n- Resolution failure for non-literal arguments:\nNone\n\nDuring: resolving callee type: BoundFunction((<class 'numba.core.types.npytypes.Array'>, 'dot') for array(int16, 2d, C))\nDuring: typing of call at /tmp/ipykernel_694693/3785498144.py (3)\n\n\nFile \"../../../../../tmp/ipykernel_694693/3785498144.py\", line 3:\n<source missing, REPL/exec in use?>\n",
     "output_type": "error",
     "traceback": [
      "\u001b[0;31m---------------------------------------------------------------------------\u001b[0m",
      "\u001b[0;31mTypingError\u001b[0m                               Traceback (most recent call last)",
      "Cell \u001b[0;32mIn [63], line 5\u001b[0m\n\u001b[1;32m      1\u001b[0m \u001b[38;5;129m@njit\u001b[39m\n\u001b[1;32m      2\u001b[0m \u001b[38;5;28;01mdef\u001b[39;00m \u001b[38;5;21mdio\u001b[39m(ciao, ciao2):\n\u001b[1;32m      3\u001b[0m     ciao\u001b[38;5;241m.\u001b[39mdot(ciao2) \n\u001b[0;32m----> 5\u001b[0m \u001b[43mget_ipython\u001b[49m\u001b[43m(\u001b[49m\u001b[43m)\u001b[49m\u001b[38;5;241;43m.\u001b[39;49m\u001b[43mrun_line_magic\u001b[49m\u001b[43m(\u001b[49m\u001b[38;5;124;43m'\u001b[39;49m\u001b[38;5;124;43mtimeit\u001b[39;49m\u001b[38;5;124;43m'\u001b[39;49m\u001b[43m,\u001b[49m\u001b[43m \u001b[49m\u001b[38;5;124;43m'\u001b[39;49m\u001b[38;5;124;43mdio(system._connectivity_matrix, system._occupation_matrix.T)\u001b[39;49m\u001b[38;5;124;43m'\u001b[39;49m\u001b[43m)\u001b[49m\n",
      "File \u001b[0;32m~/python_venvs/NPlib/lib/python3.9/site-packages/IPython/core/interactiveshell.py:2309\u001b[0m, in \u001b[0;36mInteractiveShell.run_line_magic\u001b[0;34m(self, magic_name, line, _stack_depth)\u001b[0m\n\u001b[1;32m   <a href='file:///home/riccardo/python_venvs/NPlib/lib/python3.9/site-packages/IPython/core/interactiveshell.py?line=2306'>2307</a>\u001b[0m     kwargs[\u001b[39m'\u001b[39m\u001b[39mlocal_ns\u001b[39m\u001b[39m'\u001b[39m] \u001b[39m=\u001b[39m \u001b[39mself\u001b[39m\u001b[39m.\u001b[39mget_local_scope(stack_depth)\n\u001b[1;32m   <a href='file:///home/riccardo/python_venvs/NPlib/lib/python3.9/site-packages/IPython/core/interactiveshell.py?line=2307'>2308</a>\u001b[0m \u001b[39mwith\u001b[39;00m \u001b[39mself\u001b[39m\u001b[39m.\u001b[39mbuiltin_trap:\n\u001b[0;32m-> <a href='file:///home/riccardo/python_venvs/NPlib/lib/python3.9/site-packages/IPython/core/interactiveshell.py?line=2308'>2309</a>\u001b[0m     result \u001b[39m=\u001b[39m fn(\u001b[39m*\u001b[39;49margs, \u001b[39m*\u001b[39;49m\u001b[39m*\u001b[39;49mkwargs)\n\u001b[1;32m   <a href='file:///home/riccardo/python_venvs/NPlib/lib/python3.9/site-packages/IPython/core/interactiveshell.py?line=2309'>2310</a>\u001b[0m \u001b[39mreturn\u001b[39;00m result\n",
      "File \u001b[0;32m~/python_venvs/NPlib/lib/python3.9/site-packages/IPython/core/magics/execution.py:1162\u001b[0m, in \u001b[0;36mExecutionMagics.timeit\u001b[0;34m(self, line, cell, local_ns)\u001b[0m\n\u001b[1;32m   <a href='file:///home/riccardo/python_venvs/NPlib/lib/python3.9/site-packages/IPython/core/magics/execution.py?line=1159'>1160</a>\u001b[0m \u001b[39mfor\u001b[39;00m index \u001b[39min\u001b[39;00m \u001b[39mrange\u001b[39m(\u001b[39m0\u001b[39m, \u001b[39m10\u001b[39m):\n\u001b[1;32m   <a href='file:///home/riccardo/python_venvs/NPlib/lib/python3.9/site-packages/IPython/core/magics/execution.py?line=1160'>1161</a>\u001b[0m     number \u001b[39m=\u001b[39m \u001b[39m10\u001b[39m \u001b[39m*\u001b[39m\u001b[39m*\u001b[39m index\n\u001b[0;32m-> <a href='file:///home/riccardo/python_venvs/NPlib/lib/python3.9/site-packages/IPython/core/magics/execution.py?line=1161'>1162</a>\u001b[0m     time_number \u001b[39m=\u001b[39m timer\u001b[39m.\u001b[39;49mtimeit(number)\n\u001b[1;32m   <a href='file:///home/riccardo/python_venvs/NPlib/lib/python3.9/site-packages/IPython/core/magics/execution.py?line=1162'>1163</a>\u001b[0m     \u001b[39mif\u001b[39;00m time_number \u001b[39m>\u001b[39m\u001b[39m=\u001b[39m \u001b[39m0.2\u001b[39m:\n\u001b[1;32m   <a href='file:///home/riccardo/python_venvs/NPlib/lib/python3.9/site-packages/IPython/core/magics/execution.py?line=1163'>1164</a>\u001b[0m         \u001b[39mbreak\u001b[39;00m\n",
      "File \u001b[0;32m~/python_venvs/NPlib/lib/python3.9/site-packages/IPython/core/magics/execution.py:156\u001b[0m, in \u001b[0;36mTimer.timeit\u001b[0;34m(self, number)\u001b[0m\n\u001b[1;32m    <a href='file:///home/riccardo/python_venvs/NPlib/lib/python3.9/site-packages/IPython/core/magics/execution.py?line=153'>154</a>\u001b[0m gc\u001b[39m.\u001b[39mdisable()\n\u001b[1;32m    <a href='file:///home/riccardo/python_venvs/NPlib/lib/python3.9/site-packages/IPython/core/magics/execution.py?line=154'>155</a>\u001b[0m \u001b[39mtry\u001b[39;00m:\n\u001b[0;32m--> <a href='file:///home/riccardo/python_venvs/NPlib/lib/python3.9/site-packages/IPython/core/magics/execution.py?line=155'>156</a>\u001b[0m     timing \u001b[39m=\u001b[39m \u001b[39mself\u001b[39;49m\u001b[39m.\u001b[39;49minner(it, \u001b[39mself\u001b[39;49m\u001b[39m.\u001b[39;49mtimer)\n\u001b[1;32m    <a href='file:///home/riccardo/python_venvs/NPlib/lib/python3.9/site-packages/IPython/core/magics/execution.py?line=156'>157</a>\u001b[0m \u001b[39mfinally\u001b[39;00m:\n\u001b[1;32m    <a href='file:///home/riccardo/python_venvs/NPlib/lib/python3.9/site-packages/IPython/core/magics/execution.py?line=157'>158</a>\u001b[0m     \u001b[39mif\u001b[39;00m gcold:\n",
      "File \u001b[0;32m<magic-timeit>:1\u001b[0m, in \u001b[0;36minner\u001b[0;34m(_it, _timer)\u001b[0m\n",
      "File \u001b[0;32m~/python_venvs/NPlib/lib/python3.9/site-packages/numba/core/dispatcher.py:468\u001b[0m, in \u001b[0;36m_DispatcherBase._compile_for_args\u001b[0;34m(self, *args, **kws)\u001b[0m\n\u001b[1;32m    <a href='file:///home/riccardo/python_venvs/NPlib/lib/python3.9/site-packages/numba/core/dispatcher.py?line=463'>464</a>\u001b[0m         msg \u001b[39m=\u001b[39m (\u001b[39mf\u001b[39m\u001b[39m\"\u001b[39m\u001b[39m{\u001b[39;00m\u001b[39mstr\u001b[39m(e)\u001b[39m.\u001b[39mrstrip()\u001b[39m}\u001b[39;00m\u001b[39m \u001b[39m\u001b[39m\\n\u001b[39;00m\u001b[39m\\n\u001b[39;00m\u001b[39mThis error may have been caused \u001b[39m\u001b[39m\"\u001b[39m\n\u001b[1;32m    <a href='file:///home/riccardo/python_venvs/NPlib/lib/python3.9/site-packages/numba/core/dispatcher.py?line=464'>465</a>\u001b[0m                \u001b[39mf\u001b[39m\u001b[39m\"\u001b[39m\u001b[39mby the following argument(s):\u001b[39m\u001b[39m\\n\u001b[39;00m\u001b[39m{\u001b[39;00margs_str\u001b[39m}\u001b[39;00m\u001b[39m\\n\u001b[39;00m\u001b[39m\"\u001b[39m)\n\u001b[1;32m    <a href='file:///home/riccardo/python_venvs/NPlib/lib/python3.9/site-packages/numba/core/dispatcher.py?line=465'>466</a>\u001b[0m         e\u001b[39m.\u001b[39mpatch_message(msg)\n\u001b[0;32m--> <a href='file:///home/riccardo/python_venvs/NPlib/lib/python3.9/site-packages/numba/core/dispatcher.py?line=467'>468</a>\u001b[0m     error_rewrite(e, \u001b[39m'\u001b[39;49m\u001b[39mtyping\u001b[39;49m\u001b[39m'\u001b[39;49m)\n\u001b[1;32m    <a href='file:///home/riccardo/python_venvs/NPlib/lib/python3.9/site-packages/numba/core/dispatcher.py?line=468'>469</a>\u001b[0m \u001b[39mexcept\u001b[39;00m errors\u001b[39m.\u001b[39mUnsupportedError \u001b[39mas\u001b[39;00m e:\n\u001b[1;32m    <a href='file:///home/riccardo/python_venvs/NPlib/lib/python3.9/site-packages/numba/core/dispatcher.py?line=469'>470</a>\u001b[0m     \u001b[39m# Something unsupported is present in the user code, add help info\u001b[39;00m\n\u001b[1;32m    <a href='file:///home/riccardo/python_venvs/NPlib/lib/python3.9/site-packages/numba/core/dispatcher.py?line=470'>471</a>\u001b[0m     error_rewrite(e, \u001b[39m'\u001b[39m\u001b[39munsupported_error\u001b[39m\u001b[39m'\u001b[39m)\n",
      "File \u001b[0;32m~/python_venvs/NPlib/lib/python3.9/site-packages/numba/core/dispatcher.py:409\u001b[0m, in \u001b[0;36m_DispatcherBase._compile_for_args.<locals>.error_rewrite\u001b[0;34m(e, issue_type)\u001b[0m\n\u001b[1;32m    <a href='file:///home/riccardo/python_venvs/NPlib/lib/python3.9/site-packages/numba/core/dispatcher.py?line=406'>407</a>\u001b[0m     \u001b[39mraise\u001b[39;00m e\n\u001b[1;32m    <a href='file:///home/riccardo/python_venvs/NPlib/lib/python3.9/site-packages/numba/core/dispatcher.py?line=407'>408</a>\u001b[0m \u001b[39melse\u001b[39;00m:\n\u001b[0;32m--> <a href='file:///home/riccardo/python_venvs/NPlib/lib/python3.9/site-packages/numba/core/dispatcher.py?line=408'>409</a>\u001b[0m     \u001b[39mraise\u001b[39;00m e\u001b[39m.\u001b[39mwith_traceback(\u001b[39mNone\u001b[39;00m)\n",
      "\u001b[0;31mTypingError\u001b[0m: Failed in nopython mode pipeline (step: nopython frontend)\n- Resolution failure for literal arguments:\nNo implementation of function Function(<function array_dot at 0x7fac07f6e940>) found for signature:\n\n >>> array_dot(array(int16, 2d, C), array(float64, 2d, F))\n\nThere are 2 candidate implementations:\n      - Of which 2 did not match due to:\n      Overload in function 'array_dot': File: numba/np/arrayobj.py: Line 5526.\n        With argument(s): '(array(int16, 2d, C), array(float64, 2d, F))':\n       Rejected as the implementation raised a specific error:\n         TypingError: Failed in nopython mode pipeline (step: nopython frontend)\n       No implementation of function Function(<function dot at 0x7fac70599790>) found for signature:\n\n        >>> dot(array(int16, 2d, C), array(float64, 2d, F))\n\n       There are 4 candidate implementations:\n             - Of which 4 did not match due to:\n             Overload in function '_OverloadWrapper._build.<locals>.ol_generated': File: numba/core/overload_glue.py: Line 129.\n               With argument(s): '(array(int16, 2d, C), array(float64, 2d, F))':\n              Rejected as the implementation raised a specific error:\n                TypingError: np.dot() arguments must all have the same dtype\n         raised from /home/riccardo/python_venvs/NPlib/lib/python3.9/site-packages/numba/core/typing/npydecl.py:915\n\n       During: resolving callee type: Function(<function dot at 0x7fac70599790>)\n       During: typing of call at /home/riccardo/python_venvs/NPlib/lib/python3.9/site-packages/numba/np/arrayobj.py (5529)\n\n\n       File \"../../../python_venvs/NPlib/lib/python3.9/site-packages/numba/np/arrayobj.py\", line 5529:\n           def dot_impl(arr, other):\n               return np.dot(arr, other)\n               ^\n\n  raised from /home/riccardo/python_venvs/NPlib/lib/python3.9/site-packages/numba/core/typeinfer.py:1086\n\n- Resolution failure for non-literal arguments:\nNone\n\nDuring: resolving callee type: BoundFunction((<class 'numba.core.types.npytypes.Array'>, 'dot') for array(int16, 2d, C))\nDuring: typing of call at /tmp/ipykernel_694693/3785498144.py (3)\n\n\nFile \"../../../../../tmp/ipykernel_694693/3785498144.py\", line 3:\n<source missing, REPL/exec in use?>\n"
     ]
    }
   ],
   "source": [
    "@njit\n",
    "def dio(ciao, ciao2):\n",
    "    ciao.dot(ciao2) \n",
    "\n",
    "%timeit dio(system._connectivity_matrix, system._occupation_matrix.T)"
   ]
  },
  {
   "cell_type": "code",
   "execution_count": 55,
   "metadata": {},
   "outputs": [
    {
     "data": {
      "text/plain": [
       "array([[0., 1., 0., ..., 0., 0., 0.],\n",
       "       [1., 0., 0., ..., 0., 0., 0.],\n",
       "       [1., 1., 0., ..., 0., 0., 0.],\n",
       "       ...,\n",
       "       [0., 0., 0., ..., 0., 0., 0.],\n",
       "       [0., 0., 0., ..., 0., 0., 0.],\n",
       "       [0., 0., 0., ..., 0., 0., 0.]])"
      ]
     },
     "execution_count": 55,
     "metadata": {},
     "output_type": "execute_result"
    }
   ],
   "source": [
    "system._connectivity_matrix * system._occupation_matrix[1]"
   ]
  },
  {
   "cell_type": "code",
   "execution_count": 59,
   "metadata": {},
   "outputs": [
    {
     "data": {
      "text/plain": [
       "array([[6., 3.],\n",
       "       [4., 5.],\n",
       "       [4., 5.],\n",
       "       ...,\n",
       "       [5., 4.],\n",
       "       [7., 2.],\n",
       "       [7., 2.]])"
      ]
     },
     "execution_count": 59,
     "metadata": {},
     "output_type": "execute_result"
    }
   ],
   "source": [
    "system._connectivity_matrix.dot(system._occupation_matrix.T)"
   ]
  },
  {
   "cell_type": "code",
   "execution_count": null,
   "metadata": {},
   "outputs": [],
   "source": []
  }
 ],
 "metadata": {
  "interpreter": {
   "hash": "d29b8ea4b98c6d88221684bf26061dc73b9318e208130fe5f0fe0ed42a387f08"
  },
  "kernelspec": {
   "display_name": "Python 3.9.7 ('NPlib')",
   "language": "python",
   "name": "python3"
  },
  "language_info": {
   "codemirror_mode": {
    "name": "ipython",
    "version": 3
   },
   "file_extension": ".py",
   "mimetype": "text/x-python",
   "name": "python",
   "nbconvert_exporter": "python",
   "pygments_lexer": "ipython3",
   "version": "3.9.7"
  },
  "orig_nbformat": 4,
  "vscode": {
   "interpreter": {
    "hash": "b3c440a52e01b8ce2b342ec8185e252740cddfaa72bfddb2122b85802c2ca1f8"
   }
  }
 },
 "nbformat": 4,
 "nbformat_minor": 2
}

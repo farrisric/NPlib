{
 "cells": [
  {
   "cell_type": "code",
   "execution_count": 1,
   "metadata": {},
   "outputs": [],
   "source": [
    "import numpy as np\n",
    "from ase.cluster import Octahedron\n",
    "from ase.visualize import view \n",
    "\n",
    "from npl.core import Nanoparticle as NP\n",
    "from npl.descriptors import SiteFinder\n",
    "\n",
    "system = Octahedron('Pt', 9,3)\n",
    "system = NP.from_atoms(system)\n",
    "ads = SiteFinder(system)"
   ]
  },
  {
   "cell_type": "code",
   "execution_count": null,
   "metadata": {},
   "outputs": [],
   "source": []
  },
  {
   "cell_type": "code",
   "execution_count": 193,
   "metadata": {},
   "outputs": [
    {
     "data": {
      "text/plain": [
       "<Popen: returncode: None args: ['/home/riccardo/python_venvs/NPlib/bin/pytho...>"
      ]
     },
     "execution_count": 193,
     "metadata": {},
     "output_type": "execute_result"
    }
   ],
   "source": [
    "from ase import Atoms\n",
    "\n",
    "for site in get_four_fold_hollow_site():\n",
    "    o = Atoms('O')\n",
    "    o.translate(np.average(system.positions[site],axis=0))\n",
    "    system = system + o\n",
    "view(system)"
   ]
  },
  {
   "cell_type": "code",
   "execution_count": 182,
   "metadata": {},
   "outputs": [],
   "source": [
    "def get_surface_neighbors():\n",
    "    surface_indices = np.where(coordination_list<12)[0]\n",
    "\n",
    "    surface_neighbors_dict = {x : [] for x in surface_indices}\n",
    "    subsurface_neighbors_dict = {x : [] for x in surface_indices}\n",
    "    \n",
    "    for surface_idx in surface_indices:\n",
    "        for neigh in system.neighbor_dict[surface_idx]:\n",
    "            if neigh in surface_indices:\n",
    "                surface_neighbors_dict[surface_idx].append(neigh)\n",
    "            else:\n",
    "                subsurface_neighbors_dict[surface_idx].append(neigh)\n",
    "\n",
    "    return surface_neighbors_dict, subsurface_neighbors_dict\n"
   ]
  },
  {
   "cell_type": "code",
   "execution_count": 183,
   "metadata": {},
   "outputs": [],
   "source": [
    "surface_neighbors_dict, subsurface_neighbors_dict = get_surface_neighbors()\n"
   ]
  },
  {
   "cell_type": "code",
   "execution_count": 192,
   "metadata": {},
   "outputs": [],
   "source": [
    "def get_surface_common_indices(a,b):\n",
    "    return np.intersect1d(surface_neighbors_dict[a], surface_neighbors_dict[b])\n",
    "\n",
    "def get_brige_site_indices():\n",
    "    bridge_site_indices = []\n",
    "\n",
    "    for central_i, neighbors in surface_neighbors_dict.items():\n",
    "        for neigh_i in sorted(neighbors):\n",
    "            if neigh_i > central_i:\n",
    "                bridge_site_indices.append([central_i, neigh_i])\n",
    "\n",
    "    return bridge_site_indices\n",
    "\n",
    "\n",
    "def get_hollow_site_indices():\n",
    "    hollow_site_indices = []\n",
    "    bridge_site_indices = get_brige_site_indices()\n",
    "\n",
    "    for idx1, idx2 in bridge_site_indices:\n",
    "        common_idices = get_surface_common_indices(idx1,idx2)\n",
    "        for common_idx in common_idices:\n",
    "            site_indices = sorted([idx1, idx2,common_idx])\n",
    "            if site_indices not in hollow_site_indices:\n",
    "                hollow_site_indices.append(site_indices)\n",
    "    return hollow_site_indices\n",
    "\n",
    "def get_four_fold_hollow_site():\n",
    "    bridge_sites_indices = get_brige_site_indices()\n",
    "    four_fold_hollow_site = []\n",
    "    for i, bridge_site in enumerate(bridge_sites_indices):\n",
    "        for other_bridge_site in bridge_sites_indices[i+1:]:\n",
    "            if len(np.intersect1d(bridge_site,other_bridge_site)) == 0:\n",
    "                a, b = bridge_site\n",
    "                c, d = other_bridge_site \n",
    "\n",
    "                check_a =  np.intersect1d(surface_neighbors_dict[a], other_bridge_site)\n",
    "                check_b = np.intersect1d(surface_neighbors_dict[b], other_bridge_site)\n",
    "\n",
    "                if len(check_a) == 1 and len(check_b) == 1:\n",
    "                    if check_a != check_b:\n",
    "                        site_indices = sorted([a,b,c,d])\n",
    "                        if site_indices not in four_fold_hollow_site:\n",
    "                            four_fold_hollow_site.append(site_indices)\n",
    "    return four_fold_hollow_site\n",
    "\n",
    "    "
   ]
  },
  {
   "cell_type": "code",
   "execution_count": 188,
   "metadata": {},
   "outputs": [],
   "source": [
    "from ase import Atoms\n",
    "\n",
    "for site in get_hollow_site_indices():\n",
    "    o = Atoms('O')\n",
    "    o.translate(np.average(system.positions[site],axis=0))\n",
    "    system = system + o\n"
   ]
  },
  {
   "cell_type": "code",
   "execution_count": 189,
   "metadata": {},
   "outputs": [
    {
     "data": {
      "text/plain": [
       "<Popen: returncode: None args: ['/home/riccardo/python_venvs/NPlib/bin/pytho...>"
      ]
     },
     "execution_count": 189,
     "metadata": {},
     "output_type": "execute_result"
    }
   ],
   "source": [
    "view(system)"
   ]
  },
  {
   "cell_type": "code",
   "execution_count": 167,
   "metadata": {},
   "outputs": [
    {
     "data": {
      "text/plain": [
       "array([[-7.84, -1.96, -1.96],\n",
       "       [-7.84,  0.  , -3.92],\n",
       "       [-7.84,  1.96, -1.96],\n",
       "       [-7.84,  0.  ,  0.  ]])"
      ]
     },
     "execution_count": 167,
     "metadata": {},
     "output_type": "execute_result"
    }
   ],
   "source": [
    "system.positions[lista[1]]"
   ]
  },
  {
   "cell_type": "code",
   "execution_count": 137,
   "metadata": {},
   "outputs": [
    {
     "name": "stdout",
     "output_type": "stream",
     "text": [
      "[1, 4, 5, 14]\n",
      "[1, 10, 11, 14]\n",
      "[5, 14, 15, 18]\n",
      "[11, 14, 15, 22]\n",
      "[26, 28, 30, 87]\n",
      "[26, 83, 85, 87]\n",
      "[30, 87, 89, 91]\n",
      "[35, 49, 52, 112]\n",
      "[35, 94, 97, 112]\n",
      "[48, 65, 66, 128]\n",
      "[48, 110, 111, 128]\n",
      "[52, 112, 115, 130]\n",
      "[66, 128, 129, 145]\n",
      "[79, 80, 81, 148]\n",
      "[79, 146, 147, 148]\n",
      "[81, 148, 149, 150]\n",
      "[85, 87, 89, 152]\n",
      "[97, 112, 115, 167]\n",
      "[111, 128, 129, 182]\n",
      "[147, 148, 149, 191]\n",
      "[192, 193, 194, 197]\n",
      "[192, 195, 196, 197]\n",
      "[194, 197, 198, 199]\n",
      "[196, 197, 198, 200]\n"
     ]
    }
   ],
   "source": [
    "lista = get_four_fold_hollow_site()\n",
    "positions = system.positions\n",
    "\n",
    "for f in lista:\n",
    "    "
   ]
  },
  {
   "cell_type": "code",
   "execution_count": 168,
   "metadata": {},
   "outputs": [
    {
     "data": {
      "text/plain": [
       "Nanoparticle(symbols='OPt201', pbc=False, initial_charges=..., initial_magmoms=..., masses=..., momenta=..., tags=...)"
      ]
     },
     "execution_count": 168,
     "metadata": {},
     "output_type": "execute_result"
    }
   ],
   "source": [
    "from ase import Atoms\n",
    "o = Atoms('O')\n",
    "o.translate(np.average(system.positions[lista[1]],axis=0))\n",
    "system + o"
   ]
  },
  {
   "cell_type": "code",
   "execution_count": 169,
   "metadata": {},
   "outputs": [
    {
     "data": {
      "text/plain": [
       "<Popen: returncode: None args: ['/home/riccardo/python_venvs/NPlib/bin/pytho...>"
      ]
     },
     "execution_count": 169,
     "metadata": {},
     "output_type": "execute_result"
    }
   ],
   "source": [
    "from ase.visualize import view\n",
    "\n",
    "view(system + o)"
   ]
  },
  {
   "cell_type": "code",
   "execution_count": null,
   "metadata": {},
   "outputs": [],
   "source": []
  }
 ],
 "metadata": {
  "interpreter": {
   "hash": "d29b8ea4b98c6d88221684bf26061dc73b9318e208130fe5f0fe0ed42a387f08"
  },
  "kernelspec": {
   "display_name": "Python 3.9.7 ('NPlib')",
   "language": "python",
   "name": "python3"
  },
  "language_info": {
   "codemirror_mode": {
    "name": "ipython",
    "version": 3
   },
   "file_extension": ".py",
   "mimetype": "text/x-python",
   "name": "python",
   "nbconvert_exporter": "python",
   "pygments_lexer": "ipython3",
   "version": "3.9.7"
  },
  "orig_nbformat": 4
 },
 "nbformat": 4,
 "nbformat_minor": 2
}

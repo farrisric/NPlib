{
 "cells": [
  {
   "cell_type": "code",
   "execution_count": 2,
   "metadata": {},
   "outputs": [],
   "source": [
    "from npl.calculators import LinearModelCalculator as calculator\n",
    "from npl.core import Nanoparticle as NP\n",
    "from npl.descriptors import EnvironmentalTopologies as ETOP\n",
    "\n",
    "from ase.db import connect\n",
    "\n",
    "db = connect('/media/riccardo/PORTALHOME/PtAu_PtCu_201/PtAu_200k.db')\n",
    " \n",
    "training_set = []\n",
    "for f in db.select(Pt=101):\n",
    "    atoms = f.toatoms()\n",
    "    ETOP()._create(atoms)\n",
    "    training_set.append(atoms)"
   ]
  },
  {
   "cell_type": "code",
   "execution_count": 15,
   "metadata": {},
   "outputs": [
    {
     "data": {
      "text/plain": [
       "(array([  0,   1,   3,   5,   8,   9,  10,  14,  16,  19,  20,  21,  22,\n",
       "         23,  25,  26,  29,  30,  32,  35,  36,  39,  40,  44,  46,  48,\n",
       "         50,  53,  56,  57,  63,  64,  65,  66,  68,  71,  72,  75,  76,\n",
       "         78,  80,  82,  83,  89,  90,  93,  94,  96,  98,  99, 102, 103,\n",
       "        108, 109, 111, 112, 114, 117, 118, 119, 121, 122, 126, 127, 130,\n",
       "        131, 132, 136, 137, 138, 142, 143, 145, 146, 147, 149, 150, 153,\n",
       "        156, 158, 160, 161, 162, 166, 167, 169, 170, 172, 173, 176, 177,\n",
       "        180, 181, 183, 186, 189, 190, 192, 193, 197, 200]),)"
      ]
     },
     "execution_count": 15,
     "metadata": {},
     "output_type": "execute_result"
    }
   ],
   "source": [
    "import numpy as np\n",
    "\n",
    "test = atoms.get_atomic_numbers()\n",
    "np.where(test==78)"
   ]
  },
  {
   "cell_type": "code",
   "execution_count": 4,
   "metadata": {},
   "outputs": [],
   "source": [
    "from Core import Nanoparticle as NP\n",
    "from Core.GlobalFeatureClassifier import TopologicalEnvironmentFeatureClassifier as etopo\n",
    "\n",
    "cacca = []\n",
    "for f in db.select(Pt=101):\n",
    "    atoms = f.toatoms()\n",
    "    p = NP.Nanoparticle()\n",
    "    p.add_atoms(atoms)\n",
    "    etopo(['Au','Pt']).compute_feature_vector(p)\n",
    "    cacca.append(atoms)"
   ]
  },
  {
   "cell_type": "code",
   "execution_count": null,
   "metadata": {},
   "outputs": [
    {
     "ename": "KeyError",
     "evalue": "'desc'",
     "output_type": "error",
     "traceback": [
      "\u001b[0;31m---------------------------------------------------------------------------\u001b[0m",
      "\u001b[0;31mKeyError\u001b[0m                                  Traceback (most recent call last)",
      "Cell \u001b[0;32mIn [4], line 8\u001b[0m\n\u001b[1;32m      1\u001b[0m \u001b[38;5;28;01mfrom\u001b[39;00m \u001b[38;5;21;01msklearn\u001b[39;00m\u001b[38;5;21;01m.\u001b[39;00m\u001b[38;5;21;01mlinear_model\u001b[39;00m \u001b[38;5;28;01mimport\u001b[39;00m BayesianRidge\n\u001b[1;32m      3\u001b[0m linear \u001b[38;5;241m=\u001b[39m calculator(training_set,\n\u001b[1;32m      4\u001b[0m                     descriptor_key \u001b[38;5;241m=\u001b[39m \u001b[38;5;124m'\u001b[39m\u001b[38;5;124mETOP\u001b[39m\u001b[38;5;124m'\u001b[39m,\n\u001b[1;32m      5\u001b[0m                     linear_model \u001b[38;5;241m=\u001b[39m BayesianRidge(),\n\u001b[1;32m      6\u001b[0m                     name \u001b[38;5;241m=\u001b[39m \u001b[38;5;124m'\u001b[39m\u001b[38;5;124mBR\u001b[39m\u001b[38;5;124m'\u001b[39m)\n\u001b[0;32m----> 8\u001b[0m \u001b[43mlinear\u001b[49m\u001b[38;5;241;43m.\u001b[39;49m\u001b[43mcalculate_total\u001b[49m\u001b[43m(\u001b[49m\u001b[43mtraining_set\u001b[49m\u001b[43m[\u001b[49m\u001b[38;5;241;43m100\u001b[39;49m\u001b[43m]\u001b[49m\u001b[43m)\u001b[49m\n",
      "File \u001b[0;32m~/Projects/NPlib/npl/calculators/linear_model_calculator.py:46\u001b[0m, in \u001b[0;36mLinearModelCalculator.calculate_total\u001b[0;34m(self, particle)\u001b[0m\n\u001b[1;32m     <a href='file:///home/riccardo/Projects/NPlib/npl/calculators/linear_model_calculator.py?line=44'>45</a>\u001b[0m \u001b[39mdef\u001b[39;00m \u001b[39mcalculate_total\u001b[39m(\u001b[39mself\u001b[39m, particle):\n\u001b[0;32m---> <a href='file:///home/riccardo/Projects/NPlib/npl/calculators/linear_model_calculator.py?line=45'>46</a>\u001b[0m     \u001b[39mreturn\u001b[39;00m \u001b[39mself\u001b[39m\u001b[39m.\u001b[39mmodel\u001b[39m.\u001b[39mpredict(particle\u001b[39m.\u001b[39;49minfo[\u001b[39m'\u001b[39;49m\u001b[39mdesc\u001b[39;49m\u001b[39m'\u001b[39;49m][\u001b[39mself\u001b[39m\u001b[39m.\u001b[39mdescriptor_key])\n",
      "\u001b[0;31mKeyError\u001b[0m: 'desc'"
     ]
    }
   ],
   "source": [
    "from sklearn.linear_model import BayesianRidge\n",
    "\n",
    "linear = calculator(training_set,\n",
    "                    descriptor_key = 'ETOP',\n",
    "                    linear_model = BayesianRidge(),\n",
    "                    name = 'BR')\n",
    "\n",
    "linear.calculate_total(training_set[100])"
   ]
  },
  {
   "cell_type": "code",
   "execution_count": null,
   "metadata": {},
   "outputs": [
    {
     "ename": "ModuleNotFoundError",
     "evalue": "No module named 'npl.calculators.base_calculator'",
     "output_type": "error",
     "traceback": [
      "\u001b[0;31m---------------------------------------------------------------------------\u001b[0m\n",
      "\u001b[0;31mModuleNotFoundError\u001b[0m                       Traceback (most recent call last)\n",
      "Cell \u001b[0;32mIn [4], line 1\u001b[0m\n",
      "\u001b[0;32m----> 1\u001b[0m \u001b[38;5;28;01mimport\u001b[39;00m \u001b[38;5;21;01mnpl\u001b[39;00m\u001b[38;5;21;01m.\u001b[39;00m\u001b[38;5;21;01mcalculators\u001b[39;00m\n",
      "\n",
      "File \u001b[0;32m~/Projects/NPlib/npl/calculators/__init__.py:1\u001b[0m\n",
      "\u001b[0;32m----> <a href='file:///home/riccardo/Projects/NPlib/npl/calculators/__init__.py?line=0'>1</a>\u001b[0m \u001b[39mfrom\u001b[39;00m \u001b[39m.\u001b[39;00m\u001b[39mlinear_model_calculator\u001b[39;00m \u001b[39mimport\u001b[39;00m LinearModelCalculator\n",
      "\n",
      "File \u001b[0;32m~/Projects/NPlib/npl/calculators/linear_model_calculator.py:3\u001b[0m\n",
      "\u001b[1;32m      <a href='file:///home/riccardo/Projects/NPlib/npl/calculators/linear_model_calculator.py?line=0'>1</a>\u001b[0m \u001b[39mfrom\u001b[39;00m \u001b[39msklearn\u001b[39;00m \u001b[39mimport\u001b[39;00m linear_model\n",
      "\u001b[0;32m----> <a href='file:///home/riccardo/Projects/NPlib/npl/calculators/linear_model_calculator.py?line=2'>3</a>\u001b[0m \u001b[39mfrom\u001b[39;00m \u001b[39mnpl\u001b[39;00m\u001b[39m.\u001b[39;00m\u001b[39mcalculators\u001b[39;00m\u001b[39m.\u001b[39;00m\u001b[39mbase_calculator\u001b[39;00m \u001b[39mimport\u001b[39;00m BaseCalculator\n",
      "\u001b[1;32m      <a href='file:///home/riccardo/Projects/NPlib/npl/calculators/linear_model_calculator.py?line=3'>4</a>\u001b[0m \u001b[39mfrom\u001b[39;00m \u001b[39mnpl\u001b[39;00m\u001b[39m.\u001b[39;00m\u001b[39mcore\u001b[39;00m\u001b[39m.\u001b[39;00m\u001b[39mnanoparticle\u001b[39;00m \u001b[39mimport\u001b[39;00m Nanoparticle\n",
      "\u001b[1;32m      <a href='file:///home/riccardo/Projects/NPlib/npl/calculators/linear_model_calculator.py?line=5'>6</a>\u001b[0m \u001b[39mclass\u001b[39;00m \u001b[39mLinearModelCalculator\u001b[39;00m(BaseCalculator):\n",
      "\n",
      "\u001b[0;31mModuleNotFoundError\u001b[0m: No module named 'npl.calculators.base_calculator'"
     ]
    }
   ],
   "source": [
    "import npl.calculators"
   ]
  },
  {
   "cell_type": "code",
   "execution_count": null,
   "metadata": {},
   "outputs": [],
   "source": []
  }
 ],
 "metadata": {
  "interpreter": {
   "hash": "d29b8ea4b98c6d88221684bf26061dc73b9318e208130fe5f0fe0ed42a387f08"
  },
  "kernelspec": {
   "display_name": "Python 3.9.7 ('NPlib')",
   "language": "python",
   "name": "python3"
  },
  "language_info": {
   "codemirror_mode": {
    "name": "ipython",
    "version": 3
   },
   "file_extension": ".py",
   "mimetype": "text/x-python",
   "name": "python",
   "nbconvert_exporter": "python",
   "pygments_lexer": "ipython3",
   "version": "3.9.7"
  },
  "orig_nbformat": 4
 },
 "nbformat": 4,
 "nbformat_minor": 2
}

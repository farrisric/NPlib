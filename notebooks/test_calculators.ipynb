{
 "cells": [
  {
   "cell_type": "code",
   "execution_count": 2,
   "metadata": {},
   "outputs": [],
   "source": [
    "from npl.calculators import LinearModelCalculator as calculator\n",
    "from npl.core import Nanoparticle as NP\n",
    "from npl.descriptors import EnvironmentalTopologies as ETOP\n",
    "\n",
    "from ase.db import connect\n",
    "\n",
    "db = connect('/media/riccardo/PORTALHOME/PtAu_PtCu_201/PtAu_200k.db')\n",
    " \n",
    "training_set = []\n",
    "for f in db.select(Pt=101):\n",
    "    atoms = f.toatoms()\n",
    "    ETOP()._create(atoms)\n",
    "    training_set.append(atoms)"
   ]
  },
  {
   "cell_type": "code",
   "execution_count": 3,
   "metadata": {},
   "outputs": [
    {
     "data": {
      "text/plain": [
       "{'descriptors': {'ETOP': array([ 0.,  0.,  0.,  0.,  0.,  0.,  0.,  0.,  0.,  0.,  0.,  0.,  0.,\n",
       "          0.,  0.,  0.,  0.,  0.,  0.,  0.,  0.,  0.,  0.,  7.,  5., 10.,\n",
       "          0.,  0.,  0.,  2., 11.,  8.,  7.,  8.,  0.,  0.,  0.,  0.,  0.,\n",
       "          0.,  3.,  2.,  0.,  0.,  0.,  0.,  0.,  5.,  3., 20., 17.,  6.,\n",
       "          2.,  1.,  0.,  0.,  0.,  0.,  0.,  0.,  0.,  0.,  0.,  0.,  0.,\n",
       "          0.,  0.,  0.,  0.,  0.,  0.,  0.,  0.,  0.,  0.,  0.,  0.,  0.,\n",
       "          0.,  0.,  0.,  1.,  7., 22., 12., 16., 16.,  3.,  0.,  0.,  0.,\n",
       "          0.,  0.,  0.,  0.,  0.,  0.,  0.,  0.,  0.,  0.,  0.,  0.,  0.,\n",
       "          0.,  0.,  0.,  0.,  0.,  0.,  0.,  0.,  0.,  0.,  1.,  0.,  1.,\n",
       "          0.,  0.,  0.,  0.,  0.,  0.,  0.,  0.,  0.,  0.,  0.,  0.,  0.,\n",
       "          0.,  0.,  1.,  0.,  0.,  0.,  0.,  0.,  0.,  0.,  0.,  1.,  1.,\n",
       "          0.,  0.,  0.,  0.,  0.,  0.,  0.,  0.,  0.,  0.,  0.,  0.,  0.,\n",
       "          0.,  0.,  0.,  0.,  0.,  0.,  0.,  0.,  0.,  0.,  0.,  0.,  0.,\n",
       "          0.,  0.,  0.,  0.,  1.,  0.,  0.,  0.,  1.,  0.,  0.,  0.,  0.])}}"
      ]
     },
     "execution_count": 3,
     "metadata": {},
     "output_type": "execute_result"
    }
   ],
   "source": [
    "training_set[1].info"
   ]
  },
  {
   "cell_type": "code",
   "execution_count": 11,
   "metadata": {},
   "outputs": [
    {
     "ename": "KeyError",
     "evalue": "'desc'",
     "output_type": "error",
     "traceback": [
      "\u001b[0;31m---------------------------------------------------------------------------\u001b[0m",
      "\u001b[0;31mKeyError\u001b[0m                                  Traceback (most recent call last)",
      "Cell \u001b[0;32mIn [11], line 3\u001b[0m\n\u001b[1;32m      1\u001b[0m \u001b[38;5;28;01mfrom\u001b[39;00m \u001b[38;5;21;01msklearn\u001b[39;00m\u001b[38;5;21;01m.\u001b[39;00m\u001b[38;5;21;01mlinear_model\u001b[39;00m \u001b[38;5;28;01mimport\u001b[39;00m BayesianRidge\n\u001b[0;32m----> 3\u001b[0m linear \u001b[38;5;241m=\u001b[39m \u001b[43mcalculator\u001b[49m\u001b[43m(\u001b[49m\u001b[43mtraining_set\u001b[49m\u001b[43m,\u001b[49m\n\u001b[1;32m      4\u001b[0m \u001b[43m                    \u001b[49m\u001b[43mdescriptor_key\u001b[49m\u001b[43m \u001b[49m\u001b[38;5;241;43m=\u001b[39;49m\u001b[43m \u001b[49m\u001b[38;5;124;43m'\u001b[39;49m\u001b[38;5;124;43mETOP\u001b[39;49m\u001b[38;5;124;43m'\u001b[39;49m\u001b[43m,\u001b[49m\n\u001b[1;32m      5\u001b[0m \u001b[43m                    \u001b[49m\u001b[43mlinear_model\u001b[49m\u001b[43m \u001b[49m\u001b[38;5;241;43m=\u001b[39;49m\u001b[43m \u001b[49m\u001b[43mBayesianRidge\u001b[49m\u001b[43m(\u001b[49m\u001b[43m)\u001b[49m\u001b[43m,\u001b[49m\n\u001b[1;32m      6\u001b[0m \u001b[43m                    \u001b[49m\u001b[43mname\u001b[49m\u001b[43m \u001b[49m\u001b[38;5;241;43m=\u001b[39;49m\u001b[43m \u001b[49m\u001b[38;5;124;43m'\u001b[39;49m\u001b[38;5;124;43mBR\u001b[39;49m\u001b[38;5;124;43m'\u001b[39;49m\u001b[43m)\u001b[49m\n",
      "File \u001b[0;32m~/Projects/NPlib/npl/calculators/linear_model_calculator.py:33\u001b[0m, in \u001b[0;36mLinearModelCalculator.__init__\u001b[0;34m(self, training_set, descriptor_key, linear_model, name)\u001b[0m\n\u001b[1;32m     <a href='file:///home/riccardo/Projects/NPlib/npl/calculators/linear_model_calculator.py?line=29'>30</a>\u001b[0m \u001b[39msuper\u001b[39m()\u001b[39m.\u001b[39m\u001b[39m__init__\u001b[39m(name\u001b[39m=\u001b[39mname)\n\u001b[1;32m     <a href='file:///home/riccardo/Projects/NPlib/npl/calculators/linear_model_calculator.py?line=31'>32</a>\u001b[0m \u001b[39mself\u001b[39m\u001b[39m.\u001b[39mmodel \u001b[39m=\u001b[39m linear_model\n\u001b[0;32m---> <a href='file:///home/riccardo/Projects/NPlib/npl/calculators/linear_model_calculator.py?line=32'>33</a>\u001b[0m \u001b[39mself\u001b[39;49m\u001b[39m.\u001b[39;49m_fit(training_set, descriptor_key)\n",
      "File \u001b[0;32m~/Projects/NPlib/npl/calculators/linear_model_calculator.py:39\u001b[0m, in \u001b[0;36mLinearModelCalculator._fit\u001b[0;34m(self, trainin_set, descriptor_key)\u001b[0m\n\u001b[1;32m     <a href='file:///home/riccardo/Projects/NPlib/npl/calculators/linear_model_calculator.py?line=36'>37</a>\u001b[0m X, y \u001b[39m=\u001b[39m [], []\n\u001b[1;32m     <a href='file:///home/riccardo/Projects/NPlib/npl/calculators/linear_model_calculator.py?line=37'>38</a>\u001b[0m \u001b[39mfor\u001b[39;00m particle \u001b[39min\u001b[39;00m trainin_set:\n\u001b[0;32m---> <a href='file:///home/riccardo/Projects/NPlib/npl/calculators/linear_model_calculator.py?line=38'>39</a>\u001b[0m     X\u001b[39m.\u001b[39mappend(particle\u001b[39m.\u001b[39;49minfo[\u001b[39m'\u001b[39;49m\u001b[39mdesc\u001b[39;49m\u001b[39m'\u001b[39;49m][descriptor_key])\n\u001b[1;32m     <a href='file:///home/riccardo/Projects/NPlib/npl/calculators/linear_model_calculator.py?line=39'>40</a>\u001b[0m     y\u001b[39m.\u001b[39mappend(particle\u001b[39m.\u001b[39mget_potential_energy())\n\u001b[1;32m     <a href='file:///home/riccardo/Projects/NPlib/npl/calculators/linear_model_calculator.py?line=41'>42</a>\u001b[0m \u001b[39mself\u001b[39m\u001b[39m.\u001b[39mmodel\u001b[39m.\u001b[39mfit(X,y)\n",
      "\u001b[0;31mKeyError\u001b[0m: 'desc'"
     ]
    }
   ],
   "source": [
    "from sklearn.linear_model import BayesianRidge\n",
    "\n",
    "linear = calculator(training_set,\n",
    "                    descriptor_key = 'ETOP',\n",
    "                    linear_model = BayesianRidge(),\n",
    "                    name = 'BR')\n",
    "\n"
   ]
  },
  {
   "cell_type": "code",
   "execution_count": null,
   "metadata": {},
   "outputs": [
    {
     "ename": "ModuleNotFoundError",
     "evalue": "No module named 'npl.calculators.base_calculator'",
     "output_type": "error",
     "traceback": [
      "\u001b[0;31m---------------------------------------------------------------------------\u001b[0m\n",
      "\u001b[0;31mModuleNotFoundError\u001b[0m                       Traceback (most recent call last)\n",
      "Cell \u001b[0;32mIn [4], line 1\u001b[0m\n",
      "\u001b[0;32m----> 1\u001b[0m \u001b[38;5;28;01mimport\u001b[39;00m \u001b[38;5;21;01mnpl\u001b[39;00m\u001b[38;5;21;01m.\u001b[39;00m\u001b[38;5;21;01mcalculators\u001b[39;00m\n",
      "\n",
      "File \u001b[0;32m~/Projects/NPlib/npl/calculators/__init__.py:1\u001b[0m\n",
      "\u001b[0;32m----> <a href='file:///home/riccardo/Projects/NPlib/npl/calculators/__init__.py?line=0'>1</a>\u001b[0m \u001b[39mfrom\u001b[39;00m \u001b[39m.\u001b[39;00m\u001b[39mlinear_model_calculator\u001b[39;00m \u001b[39mimport\u001b[39;00m LinearModelCalculator\n",
      "\n",
      "File \u001b[0;32m~/Projects/NPlib/npl/calculators/linear_model_calculator.py:3\u001b[0m\n",
      "\u001b[1;32m      <a href='file:///home/riccardo/Projects/NPlib/npl/calculators/linear_model_calculator.py?line=0'>1</a>\u001b[0m \u001b[39mfrom\u001b[39;00m \u001b[39msklearn\u001b[39;00m \u001b[39mimport\u001b[39;00m linear_model\n",
      "\u001b[0;32m----> <a href='file:///home/riccardo/Projects/NPlib/npl/calculators/linear_model_calculator.py?line=2'>3</a>\u001b[0m \u001b[39mfrom\u001b[39;00m \u001b[39mnpl\u001b[39;00m\u001b[39m.\u001b[39;00m\u001b[39mcalculators\u001b[39;00m\u001b[39m.\u001b[39;00m\u001b[39mbase_calculator\u001b[39;00m \u001b[39mimport\u001b[39;00m BaseCalculator\n",
      "\u001b[1;32m      <a href='file:///home/riccardo/Projects/NPlib/npl/calculators/linear_model_calculator.py?line=3'>4</a>\u001b[0m \u001b[39mfrom\u001b[39;00m \u001b[39mnpl\u001b[39;00m\u001b[39m.\u001b[39;00m\u001b[39mcore\u001b[39;00m\u001b[39m.\u001b[39;00m\u001b[39mnanoparticle\u001b[39;00m \u001b[39mimport\u001b[39;00m Nanoparticle\n",
      "\u001b[1;32m      <a href='file:///home/riccardo/Projects/NPlib/npl/calculators/linear_model_calculator.py?line=5'>6</a>\u001b[0m \u001b[39mclass\u001b[39;00m \u001b[39mLinearModelCalculator\u001b[39;00m(BaseCalculator):\n",
      "\n",
      "\u001b[0;31mModuleNotFoundError\u001b[0m: No module named 'npl.calculators.base_calculator'"
     ]
    }
   ],
   "source": [
    "import npl.calculators"
   ]
  },
  {
   "cell_type": "code",
   "execution_count": null,
   "metadata": {},
   "outputs": [],
   "source": []
  }
 ],
 "metadata": {
  "interpreter": {
   "hash": "d29b8ea4b98c6d88221684bf26061dc73b9318e208130fe5f0fe0ed42a387f08"
  },
  "kernelspec": {
   "display_name": "Python 3.9.7 ('NPlib')",
   "language": "python",
   "name": "python3"
  },
  "language_info": {
   "codemirror_mode": {
    "name": "ipython",
    "version": 3
   },
   "file_extension": ".py",
   "mimetype": "text/x-python",
   "name": "python",
   "nbconvert_exporter": "python",
   "pygments_lexer": "ipython3",
   "version": "3.9.7"
  },
  "orig_nbformat": 4
 },
 "nbformat": 4,
 "nbformat_minor": 2
}

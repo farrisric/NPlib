{
 "cells": [
  {
   "cell_type": "markdown",
   "metadata": {},
   "source": [
    "# Tutorial Explanation\n",
    "In this tutorial, we will cover the following key concepts and steps:\n",
    "\n",
    "1. **Introduction to the Problem**: We will start by understanding the problem we aim to solve. This includes defining the objectives and the expected outcomes.\n",
    "\n",
    "2. **Nanoparticle Creation and Training Set Generation**: We will create nanoparticles using the `Nanoparticle` class and generate a training set of nanoparticles with specific stoichiometry using the `create_octahedron_training_set` function.\n",
    "\n",
    "3. **Feature Extraction**: We will extract topological features from the nanoparticles using the `TopologicalFeatureClassifier` class.\n",
    "\n",
    "4. **Model Training**: We will train a Bayesian Ridge Regression model using the extracted features and the `BayesianRRCalculator` class.\n",
    "\n",
    "5. **Model Evaluation**: We will evaluate the model by examining the coefficients of the trained model and visualizing them using Matplotlib.\n",
    "\n",
    "6. **Model Saving**: We will save the trained model to a file for future use.\n",
    "\n",
    "Throughout this tutorial, we will use Python and popular libraries such as NumPy and Matplotlib. Each step will be accompanied by code examples and explanations to ensure a clear understanding of the concepts and processes involved.\n",
    "\n",
    "Let's get started!\n"
   ]
  },
  {
   "cell_type": "code",
   "execution_count": 1,
   "metadata": {},
   "outputs": [],
   "source": [
    "from npl.core import Nanoparticle\n",
    "from npl.calculators import EMTCalculator\n",
    "\n",
    "def create_octahedron_training_set(n_particles, height, trunc, stoichiometry):\n",
    "    emt_calculator = EMTCalculator(fmax=0.2, steps=1000)\n",
    "    \n",
    "    training_set = []\n",
    "    for i in range(n_particles):\n",
    "        p = Nanoparticle()\n",
    "        p.truncated_octahedron(height, trunc, stoichiometry)\n",
    "        emt_calculator.compute_energy(p)\n",
    "        training_set.append(p)\n",
    "        \n",
    "    return training_set"
   ]
  },
  {
   "cell_type": "code",
   "execution_count": 2,
   "metadata": {},
   "outputs": [],
   "source": [
    "\"\"\"Create one randomly ordered start particle\"\"\"\n",
    "\n",
    "def create_start_particle(height, trunc, stoichiometry):\n",
    "    start_particle = Nanoparticle()\n",
    "    start_particle.truncated_octahedron(height, trunc, stoichiometry)\n",
    "    return start_particle"
   ]
  },
  {
   "cell_type": "code",
   "execution_count": 3,
   "metadata": {},
   "outputs": [],
   "source": [
    "\"\"\"Create the training set with 30 particles\"\"\"\n",
    "stoichiometry={'Pt' : 55, 'Au' : 24}\n",
    "\n",
    "training_set = create_octahedron_training_set(40, 5, 1, stoichiometry)"
   ]
  },
  {
   "cell_type": "code",
   "execution_count": 7,
   "metadata": {},
   "outputs": [],
   "source": [
    "from npl.descriptors.global_feature_classifier import testTopologicalFeatureClassifier\n",
    "\n",
    "classifier = testTopologicalFeatureClassifier(list(stoichiometry.keys()))\n",
    "\n",
    "for p in training_set:\n",
    "    classifier.compute_feature_vector(p)"
   ]
  },
  {
   "cell_type": "code",
   "execution_count": 8,
   "metadata": {},
   "outputs": [
    {
     "name": "stdout",
     "output_type": "stream",
     "text": [
      "Mean Absolute error 0.1069 eV\n",
      "Root Mean Square error 0.1441 eV\n"
     ]
    }
   ],
   "source": [
    "from npl.calculators import BayesianRRCalculator\n",
    "\n",
    "\"\"\"Create the calculator\"\"\"\n",
    "calculator = BayesianRRCalculator(classifier.get_feature_key())\n",
    "calculator.fit(training_set, 'EMT', validation_set=0.1)"
   ]
  },
  {
   "cell_type": "code",
   "execution_count": 10,
   "metadata": {},
   "outputs": [
    {
     "data": {
      "image/png": "[encoded data removed]",
      "text/plain": [
       "<Figure size 720x432 with 1 Axes>"
      ]
     },
     "metadata": {
      "needs_background": "light"
     },
     "output_type": "display_data"
    }
   ],
   "source": [
    "import numpy as np\n",
    "import matplotlib.pyplot as plt\n",
    "\n",
    "# Get the coefficients\n",
    "coefficients = calculator.get_coefficients()\n",
    "# Get the feature names from the classifier\n",
    "feature_names = classifier.get_feature_labels()\n",
    "\n",
    "# Plot the coefficients with feature names as x labels\n",
    "plt.figure(figsize=(10, 6))\n",
    "plt.bar(range(len(coefficients)), coefficients)\n",
    "plt.hlines(0, 0, len(coefficients), linestyles='dashed')\n",
    "plt.xticks(range(len(coefficients)), feature_names, rotation=90)\n",
    "plt.xlabel('Coefficient Index')\n",
    "plt.ylabel('Coefficient Value')\n",
    "plt.title('Fitting Coefficients')\n",
    "plt.show()"
   ]
  },
  {
   "cell_type": "code",
   "execution_count": null,
   "metadata": {},
   "outputs": [],
   "source": [
    "import pickle\n",
    "\n",
    "# Save the BayesianRRCalculator object to a file\n",
    "calculator.save('bayesian_rr_calculator.pkl')"
   ]
  },
  {
   "cell_type": "code",
   "execution_count": null,
   "metadata": {},
   "outputs": [],
   "source": []
  },
  {
   "cell_type": "code",
   "execution_count": null,
   "metadata": {},
   "outputs": [],
   "source": []
  }
 ],
 "metadata": {
  "kernelspec": {
   "display_name": "npltest",
   "language": "python",
   "name": "python3"
  },
  "language_info": {
   "codemirror_mode": {
    "name": "ipython",
    "version": 3
   },
   "file_extension": ".py",
   "mimetype": "text/x-python",
   "name": "python",
   "nbconvert_exporter": "python",
   "pygments_lexer": "ipython3",
   "version": "3.9.20"
  }
 },
 "nbformat": 4,
 "nbformat_minor": 2
}

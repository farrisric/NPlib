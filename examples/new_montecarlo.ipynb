{
 "cells": [
  {
   "cell_type": "code",
   "execution_count": 5,
   "metadata": {},
   "outputs": [],
   "source": [
    "import argparse\n",
    "from ase.io import read\n",
    "from ase.cluster import Octahedron\n",
    "from ase.optimize import BFGS\n",
    "from mace.calculators import MACECalculator\n",
    "from acat.ga.adsorbate_operators import (AddAdsorbate, RemoveAdsorbate,\n",
    "                                        MoveAdsorbate, ReplaceAdsorbate,\n",
    "                                        SimpleCutSpliceCrossoverWithAdsorbates)\n",
    "from acat.ga.particle_mutations import (RandomPermutation, COM2surfPermutation,\n",
    "                                        Rich2poorPermutation, Poor2richPermutation)\n",
    "from ase.ga.offspring_creator import OperationSelector\n",
    "from acat.adsorption_sites import ClusterAdsorptionSites\n",
    "from acat.adsorbate_coverage import ClusterAdsorbateCoverage"
   ]
  },
  {
   "cell_type": "code",
   "execution_count": 6,
   "metadata": {},
   "outputs": [],
   "source": [
    "from npl.monte_carlo.ensembles.canonical_ensemble import CanonicalEnsemble"
   ]
  },
  {
   "cell_type": "code",
   "execution_count": 7,
   "metadata": {},
   "outputs": [],
   "source": [
    "atoms = Octahedron('Ag', 6,1)\n",
    "atoms.set_cell([25,25,25])\n",
    "atoms.center()\n",
    "\n",
    "sas = ClusterAdsorptionSites(atoms, composition_effect=True)"
   ]
  },
  {
   "cell_type": "code",
   "execution_count": 9,
   "metadata": {},
   "outputs": [
    {
     "name": "stderr",
     "output_type": "stream",
     "text": [
      "/home/riccardo/anaconda3/envs/np-lib/lib/python3.9/site-packages/mace/calculators/mace.py:128: FutureWarning: You are using `torch.load` with `weights_only=False` (the current default value), which uses the default pickle module implicitly. It is possible to construct malicious pickle data which will execute arbitrary code during unpickling (See https://github.com/pytorch/pytorch/blob/main/SECURITY.md#untrusted-models for more details). In a future release, the default value for `weights_only` will be flipped to `True`. This limits the functions that could be executed during unpickling. Arbitrary objects will no longer be allowed to be loaded via this mode unless they are explicitly allowlisted by the user via `torch.serialization.add_safe_globals`. We recommend you start setting `weights_only=True` for any use case where you don't have full control of the loaded file. Please open an issue on GitHub for any issues related to this experimental feature.\n"
     ]
    },
    {
     "name": "stdout",
     "output_type": "stream",
     "text": [
      "No dtype selected, switching to float64 to match model dtype.\n"
     ]
    }
   ],
   "source": [
    "atoms = Octahedron('Ag', 6,1)\n",
    "atoms.set_cell([25,25,25])\n",
    "atoms.center()\n",
    "\n",
    "sas = ClusterAdsorptionSites(atoms, composition_effect=True)\n",
    "species = ['O']\n",
    "\n",
    "add = AddAdsorbate(species, adsorption_sites=sas, num_muts=1)\n",
    "for i in range(5):\n",
    "    atoms.info['data'] = {'tag': None}\n",
    "    atoms.info['confid'] = 1\n",
    "    atoms, _ = add.get_new_individual([atoms])\n",
    "\n",
    "calculator = MACECalculator(\n",
    "    model_paths='/home/riccardo/Downloads/mace_agnesi_medium.model',\n",
    "    device = 'cpu'\n",
    "    )\n",
    "optimizer = BFGS\n",
    "fmax = 0.5\n",
    "steps = 200000\n",
    "traj_file = f'{atoms.get_chemical_formula()}.traj'\n",
    "sas = ClusterAdsorptionSites(atoms, composition_effect=True)\n",
    "soclist = ([1],\n",
    "    [\n",
    "    MoveAdsorbate(['O'], adsorption_sites=sas, num_muts=1)\n",
    "    ])\n",
    "op_list = OperationSelector(*soclist)\n",
    "\n",
    "outfile = f'{atoms.get_chemical_formula()}.out'\n",
    "outfile_write_interval = 10\n",
    "random_seed = 123\n",
    "\n",
    "montecarlo = CanonicalEnsemble(atoms,\n",
    "                calculator,\n",
    "                random_seed,\n",
    "                optimizer, \n",
    "                fmax,\n",
    "                300, \n",
    "                steps, \n",
    "                traj_file, \n",
    "                op_list, \n",
    "                outfile,\n",
    "                outfile_write_interval)\n",
    "\n",
    "montecarlo.run()"
   ]
  }
 ],
 "metadata": {
  "kernelspec": {
   "display_name": "npl_user",
   "language": "python",
   "name": "python3"
  },
  "language_info": {
   "codemirror_mode": {
    "name": "ipython",
    "version": 3
   },
   "file_extension": ".py",
   "mimetype": "text/x-python",
   "name": "python",
   "nbconvert_exporter": "python",
   "pygments_lexer": "ipython3",
   "version": "3.9.20"
  }
 },
 "nbformat": 4,
 "nbformat_minor": 2
}

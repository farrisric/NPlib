{
 "cells": [
  {
   "cell_type": "code",
   "execution_count": null,
   "metadata": {},
   "outputs": [],
   "source": [
    "from npl.core import Nanoparticle\n",
    "from npl.descriptors import TopologicalFeatureClassifier\n",
    "from npl.calculators import BayesianRRCalculator"
   ]
  },
  {
   "cell_type": "code",
   "execution_count": 4,
   "metadata": {},
   "outputs": [],
   "source": [
    "\"\"\"Create one randomly ordered start particle\"\"\"\n",
    "\n",
    "def create_start_particle(height, trunc, stoichiometry):\n",
    "    start_particle = Nanoparticle()\n",
    "    start_particle.truncated_octahedron(height, trunc, stoichiometry)\n",
    "    return start_particle"
   ]
  },
  {
   "cell_type": "code",
   "execution_count": null,
   "metadata": {},
   "outputs": [],
   "source": [
    "classifier = TopologicalFeatureClassifier(list(stoichiometry.keys()))"
   ]
  },
  {
   "cell_type": "code",
   "execution_count": 1,
   "metadata": {},
   "outputs": [],
   "source": [
    "\"\"\"Load the surrogate energy model\"\"\"\n",
    "calc = BayesianRRCalculator.load('bayesian_rr_calculator.pkl')"
   ]
  },
  {
   "cell_type": "code",
   "execution_count": 3,
   "metadata": {},
   "outputs": [],
   "source": [
    "from npl.optimization.monte_carlo.monte_carlo import run_monte_carlo\n",
    "\n",
    "run_monte_carlo(beta, max_steps, start_particle, energy_calculator, local_feature_classifier)\n"
   ]
  },
  {
   "cell_type": "code",
   "execution_count": null,
   "metadata": {},
   "outputs": [],
   "source": [
    "from "
   ]
  }
 ],
 "metadata": {
  "kernelspec": {
   "display_name": "npl",
   "language": "python",
   "name": "python3"
  },
  "language_info": {
   "codemirror_mode": {
    "name": "ipython",
    "version": 3
   },
   "file_extension": ".py",
   "mimetype": "text/x-python",
   "name": "python",
   "nbconvert_exporter": "python",
   "pygments_lexer": "ipython3",
   "version": "3.11.6"
  }
 },
 "nbformat": 4,
 "nbformat_minor": 2
}

{
 "cells": [
  {
   "cell_type": "code",
   "execution_count": 1,
   "metadata": {},
   "outputs": [],
   "source": [
    "from npl.calculators import BayesianRRCalculator\n",
    "\n",
    "\"\"\"Load the surrogate energy model\"\"\"\n",
    "\n",
    "calc = BayesianRRCalculator.load('bayesian_rr_calculator.pkl')"
   ]
  },
  {
   "cell_type": "code",
   "execution_count": 2,
   "metadata": {},
   "outputs": [
    {
     "ename": "ImportError",
     "evalue": "cannot import name 'run_monte_carlo' from 'npl.optimization.monte_carlo' (/home/riccardo/bin/repos/NanoParticleLibrary/npl/optimization/monte_carlo/__init__.py)",
     "output_type": "error",
     "traceback": [
      "\u001b[0;31m---------------------------------------------------------------------------\u001b[0m",
      "\u001b[0;31mImportError\u001b[0m                               Traceback (most recent call last)",
      "Cell \u001b[0;32mIn[2], line 1\u001b[0m\n\u001b[0;32m----> 1\u001b[0m \u001b[38;5;28;01mfrom\u001b[39;00m \u001b[38;5;21;01mnpl\u001b[39;00m\u001b[38;5;21;01m.\u001b[39;00m\u001b[38;5;21;01moptimization\u001b[39;00m\u001b[38;5;21;01m.\u001b[39;00m\u001b[38;5;21;01mmonte_carlo\u001b[39;00m \u001b[38;5;28;01mimport\u001b[39;00m run_monte_carlo\n",
      "\u001b[0;31mImportError\u001b[0m: cannot import name 'run_monte_carlo' from 'npl.optimization.monte_carlo' (/home/riccardo/bin/repos/NanoParticleLibrary/npl/optimization/monte_carlo/__init__.py)"
     ]
    }
   ],
   "source": [
    "from npl.optimization.monte_carlo import run_monte_carlo"
   ]
  },
  {
   "cell_type": "code",
   "execution_count": null,
   "metadata": {},
   "outputs": [],
   "source": [
    "from "
   ]
  }
 ],
 "metadata": {
  "kernelspec": {
   "display_name": "npl",
   "language": "python",
   "name": "python3"
  },
  "language_info": {
   "codemirror_mode": {
    "name": "ipython",
    "version": 3
   },
   "file_extension": ".py",
   "mimetype": "text/x-python",
   "name": "python",
   "nbconvert_exporter": "python",
   "pygments_lexer": "ipython3",
   "version": "3.11.6"
  }
 },
 "nbformat": 4,
 "nbformat_minor": 2
}
